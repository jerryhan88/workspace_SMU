{
 "cells": [
  {
   "cell_type": "code",
   "execution_count": 1,
   "metadata": {
    "collapsed": false
   },
   "outputs": [
    {
     "name": "stdout",
     "output_type": "stream",
     "text": [
      "Populating the interactive namespace from numpy and matplotlib\n"
     ]
    }
   ],
   "source": [
    "from __future__ import division\n",
    "#\n",
    "import os, sys\n",
    "sys.path.append(os.getcwd()+'/..')\n",
    "#\n",
    "from supports._setting import individual_detail_dir\n",
    "from supports.charts import x_twin_chart\n",
    "from supports.handling_pkl import load_picle_file\n",
    "#\n",
    "import numpy as np\n",
    "import matplotlib.pyplot as plt\n",
    "import scipy.stats as stats\n",
    "from prettytable import PrettyTable\n",
    "from supports.charts import horizontal_bar_chart\n",
    "#\n",
    "%pylab inline"
   ]
  },
  {
   "cell_type": "code",
   "execution_count": 2,
   "metadata": {
    "collapsed": true
   },
   "outputs": [],
   "source": [
    "def difference(data0, data1):\n",
    "    diff = {}\n",
    "    for k, v in data0.iteritems():\n",
    "        diff[k] = data1[k] - v\n",
    "    return diff\n",
    "\n",
    "def ordering(dids_values):\n",
    "    order_v_did = []\n",
    "    for did, v in dids_values.iteritems():\n",
    "        order_v_did.append([v, did])\n",
    "    order_v_did.sort()\n",
    "    order_v_did.reverse()\n",
    "    return order_v_did\n",
    "\n",
    "def find_extreme_range(order_v_did):\n",
    "    # more than mean's 50 percent\n",
    "    values = [v for v, _ in order_v_did]\n",
    "    mu, std = np.mean(values), np.std(values)\n",
    "    i = 0\n",
    "    while order_v_did[i][0] > mu + std * 2.0:\n",
    "        i+=1\n",
    "    return (0, i / len(order_v_did))\n",
    "\n",
    "def find_negative_range(order_v_did):\n",
    "    i = 0\n",
    "    while order_v_did[i][0] >= 0:\n",
    "        i+=1\n",
    "    return (i / len(order_v_did), 1.0)\n",
    "\n",
    "def display_main_group(data_ranges, main_group_data):\n",
    "    hg_value, mg_value, lg_value = main_group_data\n",
    "    high_group_range, middle_group_range, low_group_range = data_ranges\n",
    "    _table = PrettyTable([\"Main group\", \"Num\", \"AVG\"])\n",
    "    _table.align[\"M Per\"] = \"r\"\n",
    "    _table.align[\"M AVG\"] = \"r\"\n",
    "    for i, g_name in enumerate(['Extreme', 'Middle', 'Negative']):\n",
    "                _table.add_row([g_name, \n",
    "                                '%.2f' %((data_ranges[i][1] - data_ranges[i][1])*100),\n",
    "                                '%.2f' % (sum(main_group_data[i])/len(main_group_data[i]))])\n",
    "    print _table\n",
    "    \n",
    "def group_data_display(main_group_data, sub_group_data = None):\n",
    "    hg_value, mg_value, lg_value = main_group_data\n",
    "    total_num = len(hg_value)+ len(mg_value)+ len(lg_value)\n",
    "    #\n",
    "    if sub_group_data:\n",
    "        _table = PrettyTable([\"Main\", \"M Per\", \"M AVG\", \"Sub\", \"S Per\", \"S AVG\"])\n",
    "        _table.align[\"M Per\"] = \"r\"\n",
    "        _table.align[\"M AVG\"] = \"r\"\n",
    "        _table.align[\"S Per\"] = \"r\"\n",
    "        _table.align[\"S AVG\"] = \"r\"\n",
    "        _table.add_row(['Extreme', '%.2f' %(len(hg_value) / total_num * 100), '%.2f' % (sum(hg_value)/len(hg_value)), '', '', ''])\n",
    "        pg_value, ng_value = sub_group_data[0]\n",
    "        _table.add_row(['', '', '', 'Positive', '%.2f' % (len(pg_value)/len(hg_value)* 100) , '%.2f' % (sum(pg_value)/len(pg_value))])\n",
    "        _table.add_row(['', '', '', 'Negative', '%.2f' % (len(ng_value)/len(hg_value)* 100) , '%.2f' % (sum(ng_value)/len(ng_value))])\n",
    "        #\n",
    "        _table.add_row(['Middle', '%.2f' %(len(mg_value) / total_num * 100), '%.2f' % (sum(mg_value)/len(mg_value)), '', '', ''])\n",
    "        pg_value, ng_value = sub_group_data[1]\n",
    "        _table.add_row(['', '', '', 'Positive', '%.2f' % (len(pg_value)/len(mg_value)* 100) , '%.2f' % (sum(pg_value)/len(pg_value))])\n",
    "        _table.add_row(['', '', '', 'Negative', '%.2f' % (len(ng_value)/len(mg_value)* 100) , '%.2f' % (sum(ng_value)/len(ng_value))])\n",
    "        #\n",
    "        _table.add_row(['Negative', '%.2f' %(len(lg_value) / total_num * 100), '%.2f' % (sum(lg_value)/len(lg_value)), '', '', ''])\n",
    "        pg_value, ng_value = sub_group_data[2]\n",
    "        _table.add_row(['', '', '', 'Positive', '%.2f' % (len(pg_value)/len(lg_value)* 100) , '%.2f' % (sum(pg_value)/len(pg_value))])\n",
    "        _table.add_row(['', '', '', 'Negative', '%.2f' % (len(ng_value)/len(lg_value)* 100) , '%.2f' % (sum(ng_value)/len(ng_value))])\n",
    "    else:\n",
    "        _table = PrettyTable([\"Group\", \"Num\", \"AVG\"])\n",
    "        _table.align[\"Num\"] = \"r\"\n",
    "        _table.align[\"Main AVG\"] = \"r\"\n",
    "        _table.add_row(['Extreme', '%.2f' %(len(hg_value) / total_num * 100), '%.2f' % (sum(hg_value)/len(hg_value))])\n",
    "        _table.add_row(['Middle', '%.2f' %(len(mg_value) / total_num * 100), '%.2f' % (sum(mg_value)/len(mg_value))])\n",
    "        _table.add_row(['Negative', '%.2f' %(len(lg_value) / total_num * 100), '%.2f' % (sum(lg_value)/len(lg_value))])\n",
    "    print _table\n",
    "\n",
    "    \n",
    "def grouping(data_ranges, values_keys):\n",
    "    high_group_range, middle_group_range, low_group_range = data_ranges\n",
    "    total_num = len(values_keys)\n",
    "    high_group = values_keys[int(high_group_range[0] * total_num):int(high_group_range[1] * total_num)]\n",
    "    middle_group = values_keys[int(middle_group_range[0] * total_num):int(middle_group_range[1] * total_num)]\n",
    "    low_group = values_keys[int(low_group_range[0] * total_num):int(low_group_range[1] * total_num)]\n",
    "    #\n",
    "    hg_value, hg_did = zip(*high_group)\n",
    "    mg_value, mg_did = zip(*middle_group)\n",
    "    lg_value, lg_did = zip(*low_group)\n",
    "    return hg_value, hg_did, mg_value, mg_did, lg_value, lg_did\n",
    "\n",
    "def summary_of_classification(data_ranges, _main, _sub):\n",
    "    def sub_group_values(keys, sub_dataset):\n",
    "        pg_value, ng_value = [], []\n",
    "        for k in keys:\n",
    "            v = sub_dataset[k]\n",
    "            if v >= 0:\n",
    "                pg_value.append(v)\n",
    "            else:\n",
    "                ng_value.append(v)\n",
    "        return pg_value, ng_value\n",
    "    ordered_main = ordering(_main)\n",
    "    hg_value, hg_did, mg_value, mg_did, lg_value, lg_did = grouping(data_ranges, ordered_main)\n",
    "    if _main == _sub:\n",
    "        sub_group_data = None\n",
    "    else:\n",
    "        sub_group_data = [sub_group_values(hg_did, _sub), \n",
    "                          sub_group_values(mg_did, _sub), \n",
    "                          sub_group_values(lg_did, _sub)]\n",
    "    #\n",
    "    main_group_data = [hg_value, mg_value, lg_value]\n",
    "    #\n",
    "    return main_group_data, sub_group_data"
   ]
  },
  {
   "cell_type": "code",
   "execution_count": 3,
   "metadata": {
    "collapsed": false
   },
   "outputs": [],
   "source": [
    "both_years_full_drivers,\\\n",
    "Y09_driver_genprod_hour, Y10_driver_genprod_hour, \\\n",
    "Y09_pin_driver_aprod_hour, Y10_pin_driver_aprod_hour, \\\n",
    "Y09_pout_driver_aprod_hour, Y10_pout_driver_aprod_hour, \\\n",
    "Y09_pin_driver_epro_month, Y10_pin_driver_epro_month, \\\n",
    "Y09_pout_driver_epro_month, Y10_pout_driver_epro_month = load_picle_file('%s/productivities_ext.pkl' % (individual_detail_dir))"
   ]
  },
  {
   "cell_type": "code",
   "execution_count": 4,
   "metadata": {
    "collapsed": true
   },
   "outputs": [],
   "source": [
    "diff_general_prod = difference(Y09_driver_genprod_hour, Y10_driver_genprod_hour)\n",
    "diff_pin_prod = difference(Y09_pin_driver_aprod_hour, Y10_pin_driver_aprod_hour)\n",
    "diff_pout_prod = difference(Y09_pout_driver_aprod_hour, Y10_pout_driver_aprod_hour)\n",
    "diff_pin_eco = difference(Y09_pin_driver_epro_month, Y10_pin_driver_epro_month)\n",
    "diff_pout_eco = difference(Y09_pout_driver_epro_month, Y10_pout_driver_epro_month)\n",
    "diffs ={'diff_g_prod' : diff_general_prod,\n",
    "        'diff_apin_prod' : diff_pin_prod,\n",
    "        'diff_apout_prod' : diff_pout_prod,\n",
    "        'diff_apin_eco' : diff_pin_eco, \n",
    "        'diff_apout_eco' :  diff_pout_eco}"
   ]
  },
  {
   "cell_type": "code",
   "execution_count": 5,
   "metadata": {
    "collapsed": false
   },
   "outputs": [
    {
     "name": "stdout",
     "output_type": "stream",
     "text": [
      "+------------+-------+-------+\n",
      "| Main group |  Num  |  AVG  |\n",
      "+------------+-------+-------+\n",
      "|  Extreme   |  6.50 | 15.85 |\n",
      "|   Middle   | 50.45 |  2.22 |\n",
      "|  Negative  | 43.05 | -1.92 |\n",
      "+------------+-------+-------+\n",
      "(0.9148181011535049, 1.0)\n"
     ]
    },
    {
     "ename": "AssertionError",
     "evalue": "",
     "output_type": "error",
     "traceback": [
      "\u001b[0;31m---------------------------------------------------------------------------\u001b[0m",
      "\u001b[0;31mAssertionError\u001b[0m                            Traceback (most recent call last)",
      "\u001b[0;32m<ipython-input-5-32891f897923>\u001b[0m in \u001b[0;36m<module>\u001b[0;34m()\u001b[0m\n\u001b[1;32m     11\u001b[0m \u001b[0mhorizontal_bar_chart\u001b[0m\u001b[0;34m(\u001b[0m\u001b[0;34m''\u001b[0m\u001b[0;34m,\u001b[0m\u001b[0;34m''\u001b[0m\u001b[0;34m,\u001b[0m\u001b[0;34m[\u001b[0m\u001b[0mv\u001b[0m \u001b[0;32mfor\u001b[0m \u001b[0mv\u001b[0m\u001b[0;34m,\u001b[0m \u001b[0m_\u001b[0m \u001b[0;32min\u001b[0m \u001b[0morder_v_did\u001b[0m\u001b[0;34m]\u001b[0m\u001b[0;34m)\u001b[0m\u001b[0;34m\u001b[0m\u001b[0m\n\u001b[1;32m     12\u001b[0m \u001b[0;32mprint\u001b[0m \u001b[0mfind_negative_range\u001b[0m\u001b[0;34m(\u001b[0m\u001b[0morder_v_did\u001b[0m\u001b[0;34m)\u001b[0m\u001b[0;34m\u001b[0m\u001b[0m\n\u001b[0;32m---> 13\u001b[0;31m \u001b[0;32massert\u001b[0m \u001b[0mFalse\u001b[0m\u001b[0;34m\u001b[0m\u001b[0m\n\u001b[0m\u001b[1;32m     14\u001b[0m \u001b[0;34m\u001b[0m\u001b[0m\n\u001b[1;32m     15\u001b[0m \u001b[0;34m\u001b[0m\u001b[0m\n",
      "\u001b[0;31mAssertionError\u001b[0m: "
     ]
    },
    {
     "data": {
      "image/png": "[encoded data removed]",
      "text/plain": [
       "<matplotlib.figure.Figure at 0x103cbcfd0>"
      ]
     },
     "metadata": {},
     "output_type": "display_data"
    }
   ],
   "source": [
    "# General productivity difference\n",
    "main_st = 'diff_g_prod'\n",
    "main_diff = diffs[main_st]\n",
    "order_v_did = ordering(main_diff)\n",
    "high_group_range, middle_group_range, low_group_range = find_extreme_range(order_v_did), (0.45, 0.55), find_negative_range(order_v_did)\n",
    "data_ranges = [high_group_range, middle_group_range, low_group_range]\n",
    "hg_value, hg_did, mg_value, mg_did, lg_value, lg_did = grouping(data_ranges, order_v_did)\n",
    "main_group_data = [hg_value, mg_value, lg_value]\n",
    "display_main_group(data_ranges, main_group_data)\n",
    "horizontal_bar_chart('','',[v for v, _ in order_v_did])\n",
    "print find_negative_range(order_v_did)\n",
    "assert False\n",
    "\n",
    "\n",
    "\n",
    "for sub_st, sub_diff in diffs.iteritems():\n",
    "    if sub_st == main_st: continue\n",
    "    print sub_st\n",
    "    main_group_data, sub_group_data = summary_of_classification(data_ranges, main_diff, sub_diff)\n",
    "    group_data_display(main_group_data, sub_group_data)\n"
   ]
  },
  {
   "cell_type": "code",
   "execution_count": 5,
   "metadata": {
    "collapsed": false
   },
   "outputs": [
    {
     "name": "stdout",
     "output_type": "stream",
     "text": [
      "+--------+-----+----------+----------+-------+---------+\n",
      "|  Main  | Num | Main AVG |   Sub    |   Per | Sub AVG |\n",
      "+--------+-----+----------+----------+-------+---------+\n",
      "|  High  | 112 |     8.92 |          |       |         |\n",
      "|        |     |          | Positive | 88.39 |    3.79 |\n",
      "|        |     |          | Negative | 11.61 |   -5.52 |\n",
      "| Middle | 225 |     2.22 |          |       |         |\n",
      "|        |     |          | Positive | 77.33 |    3.06 |\n",
      "|        |     |          | Negative | 22.67 |   -2.68 |\n",
      "|  Low   | 113 |    -2.98 |          |       |         |\n",
      "|        |     |          | Positive | 67.26 |    3.41 |\n",
      "|        |     |          | Negative | 32.74 |   -3.96 |\n",
      "+--------+-----+----------+----------+-------+---------+\n"
     ]
    },
    {
     "data": {
      "text/plain": [
       "<supports.charts.horizontal_bar_chart at 0x1067e5890>"
      ]
     },
     "execution_count": 5,
     "metadata": {},
     "output_type": "execute_result"
    },
    {
     "data": {
      "image/png": "[encoded data removed]",
      "text/plain": [
       "<matplotlib.figure.Figure at 0x1067e57d0>"
      ]
     },
     "metadata": {},
     "output_type": "display_data"
    }
   ],
   "source": [
    "\n",
    "data_ranges = [high_group_range, middle_group_range, low_group_range]\n",
    "xs = summary_of_classification(data_ranges, diff_general_prod, diff_pin_prod)\n",
    "\n",
    "horizontal_bar_chart('','',xs)"
   ]
  },
  {
   "cell_type": "code",
   "execution_count": 6,
   "metadata": {
    "collapsed": false
   },
   "outputs": [
    {
     "name": "stdout",
     "output_type": "stream",
     "text": [
      "+--------+-----+----------+----------+-------+---------+\n",
      "|  Main  | Num | Main AVG |   Sub    |   Per | Sub AVG |\n",
      "+--------+-----+----------+----------+-------+---------+\n",
      "|  High  | 112 |    11.60 |          |       |         |\n",
      "|        |     |          | Positive | 84.82 |   33.76 |\n",
      "|        |     |          | Negative | 15.18 |   -8.98 |\n",
      "| Middle | 225 |     1.86 |          |       |         |\n",
      "|        |     |          | Positive | 84.44 |   20.29 |\n",
      "|        |     |          | Negative | 15.56 |  -10.11 |\n",
      "|  Low   | 113 |   -10.00 |          |       |         |\n",
      "|        |     |          | Positive | 54.87 |   18.82 |\n",
      "|        |     |          | Negative | 45.13 |  -18.02 |\n",
      "+--------+-----+----------+----------+-------+---------+\n"
     ]
    },
    {
     "data": {
      "text/plain": [
       "<supports.charts.horizontal_bar_chart at 0x1067e5910>"
      ]
     },
     "execution_count": 6,
     "metadata": {},
     "output_type": "execute_result"
    },
    {
     "data": {
      "image/png": "[encoded data removed]",
      "text/plain": [
       "<matplotlib.figure.Figure at 0x1067e58d0>"
      ]
     },
     "metadata": {},
     "output_type": "display_data"
    }
   ],
   "source": [
    "data_ranges = [high_group_range, middle_group_range, low_group_range]\n",
    "xs = summary_of_classification(data_ranges, diff_pin_prod, diff_pin_eco)\n",
    "\n",
    "horizontal_bar_chart('','',xs)"
   ]
  },
  {
   "cell_type": "code",
   "execution_count": 7,
   "metadata": {
    "collapsed": false
   },
   "outputs": [
    {
     "name": "stdout",
     "output_type": "stream",
     "text": [
      "+--------+-----+----------+----------+-------+---------+\n",
      "|  Main  | Num | Main AVG |   Sub    |   Per | Sub AVG |\n",
      "+--------+-----+----------+----------+-------+---------+\n",
      "|  High  | 112 |     8.92 |          |       |         |\n",
      "|        |     |          | Positive | 84.82 |   28.23 |\n",
      "|        |     |          | Negative | 15.18 |  -13.67 |\n",
      "| Middle | 225 |     2.22 |          |       |         |\n",
      "|        |     |          | Positive | 78.67 |   21.84 |\n",
      "|        |     |          | Negative | 21.33 |   -9.95 |\n",
      "|  Low   | 113 |    -2.98 |          |       |         |\n",
      "|        |     |          | Positive | 55.75 |   25.52 |\n",
      "|        |     |          | Negative | 44.25 |  -26.37 |\n",
      "+--------+-----+----------+----------+-------+---------+\n"
     ]
    },
    {
     "data": {
      "text/plain": [
       "<supports.charts.horizontal_bar_chart at 0x10b034910>"
      ]
     },
     "execution_count": 7,
     "metadata": {},
     "output_type": "execute_result"
    },
    {
     "data": {
      "image/png": "[encoded data removed]",
      "text/plain": [
       "<matplotlib.figure.Figure at 0x108bb9290>"
      ]
     },
     "metadata": {},
     "output_type": "display_data"
    }
   ],
   "source": [
    "xs = summary_of_classification(data_ranges, diff_general_prod, diff_pin_eco)\n",
    "\n",
    "horizontal_bar_chart('','',xs)"
   ]
  },
  {
   "cell_type": "code",
   "execution_count": 8,
   "metadata": {
    "collapsed": false
   },
   "outputs": [
    {
     "name": "stdout",
     "output_type": "stream",
     "text": [
      "+--------+-----+----------+----------+-------+---------+\n",
      "|  Main  | Num | Main AVG |   Sub    |   Per | Sub AVG |\n",
      "+--------+-----+----------+----------+-------+---------+\n",
      "|  High  | 112 |    76.32 |          |       |         |\n",
      "|        |     |          | Positive | 89.29 |    3.06 |\n",
      "|        |     |          | Negative | 10.71 |   -1.83 |\n",
      "| Middle | 225 |    13.28 |          |       |         |\n",
      "|        |     |          | Positive | 91.56 |    2.67 |\n",
      "|        |     |          | Negative |  8.44 |   -1.43 |\n",
      "|  Low   | 113 |   -42.00 |          |       |         |\n",
      "|        |     |          | Positive | 73.45 |    2.35 |\n",
      "|        |     |          | Negative | 26.55 |   -2.04 |\n",
      "+--------+-----+----------+----------+-------+---------+\n"
     ]
    },
    {
     "data": {
      "text/plain": [
       "<supports.charts.horizontal_bar_chart at 0x10769a250>"
      ]
     },
     "execution_count": 8,
     "metadata": {},
     "output_type": "execute_result"
    },
    {
     "data": {
      "image/png": "[encoded data removed]",
      "text/plain": [
       "<matplotlib.figure.Figure at 0x10767ec50>"
      ]
     },
     "metadata": {},
     "output_type": "display_data"
    }
   ],
   "source": [
    "xs = summary_of_classification(data_ranges,diff_pin_eco ,diff_general_prod )\n",
    "\n",
    "horizontal_bar_chart('','',xs)"
   ]
  },
  {
   "cell_type": "code",
   "execution_count": 9,
   "metadata": {
    "collapsed": false
   },
   "outputs": [
    {
     "name": "stdout",
     "output_type": "stream",
     "text": [
      "+--------+-----+--------+\n",
      "| Group  | Num |  AVG   |\n",
      "+--------+-----+--------+\n",
      "|  High  | 112 | 76.32  |\n",
      "| Middle | 225 | 13.28  |\n",
      "|  Low   | 113 | -42.00 |\n",
      "+--------+-----+--------+\n"
     ]
    },
    {
     "data": {
      "text/plain": [
       "<supports.charts.horizontal_bar_chart at 0x10782b210>"
      ]
     },
     "execution_count": 9,
     "metadata": {},
     "output_type": "execute_result"
    },
    {
     "data": {
      "image/png": "[encoded data removed]",
      "text/plain": [
       "<matplotlib.figure.Figure at 0x103a9b0d0>"
      ]
     },
     "metadata": {},
     "output_type": "display_data"
    }
   ],
   "source": [
    "xs = summary_of_classification(data_ranges,diff_pin_eco ,diff_pin_eco )\n",
    "\n",
    "horizontal_bar_chart('','',xs)"
   ]
  },
  {
   "cell_type": "code",
   "execution_count": 9,
   "metadata": {
    "collapsed": false
   },
   "outputs": [
    {
     "name": "stdout",
     "output_type": "stream",
     "text": [
      "High group: # 112, 5%, AVG 11.60\n",
      "Middle group: # 225, 10%, AVG 1.86\n",
      "Low group: # 113, 5%, AVG -10.00\n"
     ]
    },
    {
     "data": {
      "text/plain": [
       "<supports.charts.horizontal_bar_chart at 0x1098efdd0>"
      ]
     },
     "execution_count": 9,
     "metadata": {},
     "output_type": "execute_result"
    },
    {
     "data": {
      "image/png": "[encoded data removed]",
      "text/plain": [
       "<matplotlib.figure.Figure at 0x108e07390>"
      ]
     },
     "metadata": {},
     "output_type": "display_data"
    }
   ],
   "source": [
    "xs = summary_of_classification(data_ranges,diff_pin_prod ,diff_pin_prod )\n",
    "\n",
    "horizontal_bar_chart('','',xs)"
   ]
  },
  {
   "cell_type": "code",
   "execution_count": null,
   "metadata": {
    "collapsed": true
   },
   "outputs": [],
   "source": []
  },
  {
   "cell_type": "code",
   "execution_count": null,
   "metadata": {
    "collapsed": true
   },
   "outputs": [],
   "source": []
  }
 ],
 "metadata": {
  "kernelspec": {
   "display_name": "Python 2",
   "language": "python",
   "name": "python2"
  },
  "language_info": {
   "codemirror_mode": {
    "name": "ipython",
    "version": 2
   },
   "file_extension": ".py",
   "mimetype": "text/x-python",
   "name": "python",
   "nbconvert_exporter": "python",
   "pygments_lexer": "ipython2",
   "version": "2.7.10"
  }
 },
 "nbformat": 4,
 "nbformat_minor": 0
}
