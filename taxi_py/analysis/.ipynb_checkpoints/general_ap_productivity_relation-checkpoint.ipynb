{
 "cells": [
  {
   "cell_type": "code",
   "execution_count": 1,
   "metadata": {
    "collapsed": false
   },
   "outputs": [
    {
     "name": "stdout",
     "output_type": "stream",
     "text": [
      "Populating the interactive namespace from numpy and matplotlib\n"
     ]
    }
   ],
   "source": [
    "from __future__ import division\n",
    "#\n",
    "import os, sys\n",
    "sys.path.append(os.getcwd()+'/..')\n",
    "#\n",
    "from supports._setting import individual_detail_dir\n",
    "from supports.handling_pkl import load_picle_file\n",
    "from supports.charts import horizontal_bar_chart\n",
    "#\n",
    "import numpy as np\n",
    "import matplotlib.pyplot as plt\n",
    "#\n",
    "%pylab inline"
   ]
  },
  {
   "cell_type": "code",
   "execution_count": 2,
   "metadata": {
    "collapsed": false
   },
   "outputs": [],
   "source": [
    "both_years_full_drivers,\\\n",
    "Y09_driver_genprod_hour, Y10_driver_genprod_hour, \\\n",
    "Y09_pin_driver_aprod_hour, Y10_pin_driver_aprod_hour, \\\n",
    "Y09_pout_driver_aprod_hour, Y10_pout_driver_aprod_hour = load_picle_file('%s/productivities.pkl' % (individual_detail_dir))"
   ]
  },
  {
   "cell_type": "code",
   "execution_count": 3,
   "metadata": {
    "collapsed": true
   },
   "outputs": [],
   "source": [
    "def ordering(dids_values):\n",
    "    order_v_did = []\n",
    "    for did, v in dids_values.iteritems():\n",
    "        order_v_did.append([v, did])\n",
    "    order_v_did.sort()\n",
    "    order_v_did.reverse()\n",
    "    return order_v_did"
   ]
  },
  {
   "cell_type": "code",
   "execution_count": 4,
   "metadata": {
    "collapsed": true
   },
   "outputs": [],
   "source": [
    "def difference(Y10_data, Y09_data):\n",
    "    did_diff = {}\n",
    "    for did in both_years_full_drivers:\n",
    "        did_diff[did] = Y10_data[did] - Y09_data[did]\n",
    "    return did_diff"
   ]
  },
  {
   "cell_type": "code",
   "execution_count": 5,
   "metadata": {
    "collapsed": true
   },
   "outputs": [],
   "source": [
    "diff_general_prod = difference(Y10_driver_genprod_hour, Y09_driver_genprod_hour)\n",
    "diff_pin_prod = difference(Y10_pin_driver_aprod_hour, Y09_pin_driver_aprod_hour)\n",
    "diff_pout_prod = difference(Y10_pout_driver_aprod_hour, Y09_pout_driver_aprod_hour)"
   ]
  },
  {
   "cell_type": "code",
   "execution_count": 15,
   "metadata": {
    "collapsed": true
   },
   "outputs": [],
   "source": [
    "def grouping(data_ranges, values_keys):\n",
    "    high_group_range, middle_group_range, low_group_range = data_ranges\n",
    "    total_num = len(values_keys)\n",
    "    high_group = values_keys[int(high_group_range[0]*total_num):int(high_group_range[1]*total_num)]\n",
    "    middle_group = values_keys[int(middle_group_range[0]*total_num):int(middle_group_range[1]*total_num)]\n",
    "    low_group = values_keys[int(low_group_range[0]*total_num):int(low_group_range[1]*total_num)]\n",
    "    #\n",
    "    hg_value, hg_did = zip(*high_group)\n",
    "    mg_value, mg_did = zip(*middle_group)\n",
    "    lg_value, lg_did = zip(*low_group)\n",
    "    return hg_value, hg_did, mg_value, mg_did, lg_value, lg_did"
   ]
  },
  {
   "cell_type": "code",
   "execution_count": 41,
   "metadata": {
    "collapsed": true
   },
   "outputs": [],
   "source": [
    "def sub_group_statistics(keys, sub_dataset):\n",
    "    pg_value, ng_value = [], []\n",
    "    for k in keys:\n",
    "        v = sub_dataset[k]\n",
    "        if v >= 0:\n",
    "            pg_value.append(v)\n",
    "        else:\n",
    "            ng_value.append(v)\n",
    "    return pg_value, ng_value"
   ]
  },
  {
   "cell_type": "code",
   "execution_count": 45,
   "metadata": {
    "collapsed": false
   },
   "outputs": [],
   "source": [
    "def group_data_display(data_ranges, main_group_data, sub_group_data = None):\n",
    "    high_group_range, middle_group_range, low_group_range = data_ranges\n",
    "    high_per = (high_group_range[1] - high_group_range[0]) * 100\n",
    "    middle_per = (middle_group_range[1] - middle_group_range[0]) * 100\n",
    "    low_per = (low_group_range[1] - low_group_range[0]) * 100\n",
    "    #\n",
    "    hg_value, mg_value, lg_value = main_group_data\n",
    "    total_num = len(hg_value) + len(mg_value) + len(lg_value)\n",
    "    #\n",
    "    print 'High group: # %d, %.f%%, AVG %.2f' % (len(hg_value), high_per, sum(hg_value)/len(hg_value))\n",
    "    if sub_group_data:\n",
    "        pg_value, ng_value = sub_group_data[0]\n",
    "        print '\\t Positive group: # %d, %.f%%, AVG %.2f' % (len(pg_value), len(pg_value)/len(hg_value) * 100, \n",
    "                                                          sum(pg_value)/len(pg_value))\n",
    "        print '\\t Negative group: # %d, %.f%%, AVG %.2f' % (len(ng_value), len(ng_value)/len(hg_value) * 100, \n",
    "                                                          sum(ng_value)/len(ng_value))\n",
    "    #\n",
    "    print 'Middle group: # %d, %.f%%, AVG %.2f' % (len(mg_value), middle_per, sum(mg_value)/len(mg_value))\n",
    "    if sub_group_data:\n",
    "        pg_value, ng_value = sub_group_data[1]\n",
    "        print '\\t Positive group: # %d, %.f%%, AVG %.2f' % (len(pg_value), len(pg_value)/len(mg_value) * 100, \n",
    "                                                          sum(pg_value)/len(pg_value))\n",
    "        print '\\t Negative group: # %d, %.f%%, AVG %.2f' % (len(ng_value), len(ng_value)/len(hg_value) * 100, \n",
    "                                                          sum(ng_value)/len(ng_value))\n",
    "    #\n",
    "    print 'Low group: # %d, %.f%%, AVG %.2f' % (len(lg_value), low_per, sum(lg_value)/len(lg_value))\n",
    "    if sub_group_data:\n",
    "        pg_value, ng_value = sub_group_data[2]\n",
    "        print '\\t Positive group: # %d, %.f%%, AVG %.2f' % (len(pg_value), len(pg_value)/len(lg_value) * 100, \n",
    "                                                          sum(pg_value)/len(pg_value))\n",
    "        print '\\t Negative group: # %d, %.f%%, AVG %.2f' % (len(ng_value), len(ng_value)/len(hg_value) * 100, \n",
    "                                                          sum(ng_value)/len(ng_value))        "
   ]
  },
  {
   "cell_type": "code",
   "execution_count": 46,
   "metadata": {
    "collapsed": false
   },
   "outputs": [],
   "source": [
    "high_group_range, middle_group_range, low_group_range = (0.0, 0.05), (0.45, 0.55), (0.95, 1.0)\n",
    "data_ranges = [high_group_range, middle_group_range, low_group_range]\n",
    "hg_value, hg_did, mg_value, mg_did, lg_value, lg_did = grouping(data_ranges, ordering(diff_general_prod))\n",
    "pg_hg_value, ng_hg_value = sub_group_statistics(hg_did, diff_pin_prod)\n",
    "pg_mg_value, ng_mg_value = sub_group_statistics(mg_did, diff_pin_prod)\n",
    "pg_lg_value, ng_lg_value = sub_group_statistics(lg_did, diff_pin_prod)"
   ]
  },
  {
   "cell_type": "code",
   "execution_count": 47,
   "metadata": {
    "collapsed": false
   },
   "outputs": [
    {
     "name": "stdout",
     "output_type": "stream",
     "text": [
      "High group: # 112, 5 %, AVG 7.80\n",
      "\t Positive group: # 99, 88 %, AVG 3.79\n",
      "\t Negative group: # 13, 12 %, AVG -5.52\n",
      "Middle group: # 225, 10 %, AVG 2.22\n",
      "\t Positive group: # 173, 77 %, AVG 3.05\n",
      "\t Negative group: # 52, 46 %, AVG -2.63\n",
      "Low group: # 113, 5 %, AVG -3.30\n",
      "\t Positive group: # 76, 67 %, AVG 3.54\n",
      "\t Negative group: # 37, 33 %, AVG -3.96\n"
     ]
    }
   ],
   "source": [
    "sub_group_data = [(pg_hg_value, ng_hg_value), (pg_mg_value, ng_mg_value), (pg_lg_value, ng_lg_value)]\n",
    "group_data_display(data_ranges, [hg_value, mg_value, lg_value], sub_group_data)"
   ]
  },
  {
   "cell_type": "code",
   "execution_count": null,
   "metadata": {
    "collapsed": true
   },
   "outputs": [],
   "source": [
    "high_group_range, middle_group_range, low_group_range = (0.0, 0.05), (0.45, 0.55), (0.95, 1.0)\n",
    "data_ranges = [high_group_range, middle_group_range, low_group_range]\n",
    "def summary_of_classification(data_ranges, _main, _sub):\n",
    "    ordered_main = ordering(_main)\n",
    "    hg_value, hg_did, mg_value, mg_did, lg_value, lg_did = grouping(data_ranges, ordered_main)\n",
    "    if _main == _sub:\n",
    "        sub_group_data = None\n",
    "    else:\n",
    "        sub_group_data = [sub_group_statistics(hg_did, _sub), \n",
    "                          sub_group_statistics(mg_did, _sub), \n",
    "                          sub_group_statistics(lg_did, _sub)]\n",
    "    group_data_display(data_ranges, [hg_value, mg_value, lg_value], sub_group_data)\n",
    "    xs = [_sub[did] for _, did in ordered_main]\n",
    "    horizontal_bar_chart(xs)\n",
    "    \n",
    "    \n",
    "    "
   ]
  },
  {
   "cell_type": "code",
   "execution_count": 10,
   "metadata": {
    "collapsed": false
   },
   "outputs": [
    {
     "data": {
      "image/png": "[encoded data removed]",
      "text/plain": [
       "<matplotlib.figure.Figure at 0x1053a2110>"
      ]
     },
     "metadata": {},
     "output_type": "display_data"
    },
    {
     "data": {
      "text/plain": [
       "<supports.charts.horizontal_bar_chart at 0x1053a2b90>"
      ]
     },
     "execution_count": 10,
     "metadata": {},
     "output_type": "execute_result"
    }
   ],
   "source": [
    "xs = [diff_general_prod[did] for _, did in ordering(diff_general_prod)]\n",
    "horizontal_bar_chart(xs)"
   ]
  },
  {
   "cell_type": "code",
   "execution_count": 11,
   "metadata": {
    "collapsed": false
   },
   "outputs": [
    {
     "data": {
      "image/png": "[encoded data removed]",
      "text/plain": [
       "<matplotlib.figure.Figure at 0x1053a2fd0>"
      ]
     },
     "metadata": {},
     "output_type": "display_data"
    },
    {
     "data": {
      "text/plain": [
       "<supports.charts.horizontal_bar_chart at 0x1053a20d0>"
      ]
     },
     "execution_count": 11,
     "metadata": {},
     "output_type": "execute_result"
    }
   ],
   "source": [
    "xs = [diff_pin_prod[did] for _, did in ordering(diff_pin_prod)]\n",
    "horizontal_bar_chart(xs)"
   ]
  },
  {
   "cell_type": "code",
   "execution_count": 12,
   "metadata": {
    "collapsed": false
   },
   "outputs": [
    {
     "data": {
      "image/png": "[encoded data removed]",
      "text/plain": [
       "<matplotlib.figure.Figure at 0x106d1c510>"
      ]
     },
     "metadata": {},
     "output_type": "display_data"
    },
    {
     "data": {
      "text/plain": [
       "<supports.charts.horizontal_bar_chart at 0x106d1cbd0>"
      ]
     },
     "execution_count": 12,
     "metadata": {},
     "output_type": "execute_result"
    }
   ],
   "source": [
    "xs = [diff_pout_prod[did] for _, did in ordering(diff_pout_prod)]\n",
    "horizontal_bar_chart(xs)"
   ]
  },
  {
   "cell_type": "code",
   "execution_count": 13,
   "metadata": {
    "collapsed": false
   },
   "outputs": [
    {
     "data": {
      "image/png": "[encoded data removed]",
      "text/plain": [
       "<matplotlib.figure.Figure at 0x106d1c990>"
      ]
     },
     "metadata": {},
     "output_type": "display_data"
    },
    {
     "data": {
      "text/plain": [
       "<supports.charts.horizontal_bar_chart at 0x106db8bd0>"
      ]
     },
     "execution_count": 13,
     "metadata": {},
     "output_type": "execute_result"
    }
   ],
   "source": [
    "xs = [diff_pin_prod[did] for _, did in ordering(Y10_driver_genprod_hour)]\n",
    "horizontal_bar_chart(xs)"
   ]
  },
  {
   "cell_type": "code",
   "execution_count": 28,
   "metadata": {
    "collapsed": false
   },
   "outputs": [
    {
     "data": {
      "image/png": "[encoded data removed]",
      "text/plain": [
       "<matplotlib.figure.Figure at 0x10578bf90>"
      ]
     },
     "metadata": {},
     "output_type": "display_data"
    },
    {
     "data": {
      "text/plain": [
       "<supports.charts.horizontal_bar_chart at 0x1064feed0>"
      ]
     },
     "execution_count": 28,
     "metadata": {},
     "output_type": "execute_result"
    }
   ],
   "source": [
    "xs = [diff_pout_prod[did] for _, did in ordering(Y10_driver_genprod_hour)]\n",
    "horizontal_bar_chart(xs)"
   ]
  },
  {
   "cell_type": "code",
   "execution_count": 15,
   "metadata": {
    "collapsed": false
   },
   "outputs": [
    {
     "name": "stdout",
     "output_type": "stream",
     "text": [
      "-29.4930232558 37.0193209857\n"
     ]
    },
    {
     "data": {
      "image/png": "[encoded data removed]",
      "text/plain": [
       "<matplotlib.figure.Figure at 0x107160f90>"
      ]
     },
     "metadata": {},
     "output_type": "display_data"
    },
    {
     "data": {
      "text/plain": [
       "<supports.charts.horizontal_bar_chart at 0x107160f10>"
      ]
     },
     "execution_count": 15,
     "metadata": {},
     "output_type": "execute_result"
    }
   ],
   "source": [
    "xs = [diff_pin_prod[did] for _, did in ordering(Y09_pin_driver_aprod_hour)]\n",
    "print min(xs), max(xs)\n",
    "horizontal_bar_chart(xs)"
   ]
  },
  {
   "cell_type": "code",
   "execution_count": 17,
   "metadata": {
    "collapsed": false
   },
   "outputs": [
    {
     "name": "stdout",
     "output_type": "stream",
     "text": [
      "-29.4930232558 37.0193209857\n"
     ]
    },
    {
     "data": {
      "image/png": "[encoded data removed]",
      "text/plain": [
       "<matplotlib.figure.Figure at 0x10654b8d0>"
      ]
     },
     "metadata": {},
     "output_type": "display_data"
    },
    {
     "data": {
      "text/plain": [
       "<supports.charts.horizontal_bar_chart at 0x10654b950>"
      ]
     },
     "execution_count": 17,
     "metadata": {},
     "output_type": "execute_result"
    }
   ],
   "source": [
    "xs = [diff_pin_prod[did] for _, did in ordering(Y10_pin_driver_aprod_hour)]\n",
    "print min(xs), max(xs)\n",
    "horizontal_bar_chart(xs)"
   ]
  },
  {
   "cell_type": "code",
   "execution_count": 18,
   "metadata": {
    "collapsed": false
   },
   "outputs": [
    {
     "data": {
      "image/png": "[encoded data removed]",
      "text/plain": [
       "<matplotlib.figure.Figure at 0x106b7b650>"
      ]
     },
     "metadata": {},
     "output_type": "display_data"
    },
    {
     "data": {
      "text/plain": [
       "<supports.charts.horizontal_bar_chart at 0x10654b650>"
      ]
     },
     "execution_count": 18,
     "metadata": {},
     "output_type": "execute_result"
    }
   ],
   "source": [
    "xs = [diff_pout_prod[did] for _, did in ordering(Y09_pout_driver_aprod_hour)]\n",
    "horizontal_bar_chart(xs)"
   ]
  },
  {
   "cell_type": "code",
   "execution_count": 19,
   "metadata": {
    "collapsed": false
   },
   "outputs": [
    {
     "data": {
      "image/png": "[encoded data removed]",
      "text/plain": [
       "<matplotlib.figure.Figure at 0x1083c4e50>"
      ]
     },
     "metadata": {},
     "output_type": "display_data"
    },
    {
     "data": {
      "text/plain": [
       "<supports.charts.horizontal_bar_chart at 0x107f22990>"
      ]
     },
     "execution_count": 19,
     "metadata": {},
     "output_type": "execute_result"
    }
   ],
   "source": [
    "xs = [diff_pout_prod[did] for _, did in ordering(Y10_pout_driver_aprod_hour)]\n",
    "horizontal_bar_chart(xs)"
   ]
  },
  {
   "cell_type": "code",
   "execution_count": 20,
   "metadata": {
    "collapsed": false
   },
   "outputs": [
    {
     "data": {
      "image/png": "[encoded data removed]",
      "text/plain": [
       "<matplotlib.figure.Figure at 0x1061c9f10>"
      ]
     },
     "metadata": {},
     "output_type": "display_data"
    },
    {
     "data": {
      "text/plain": [
       "<supports.charts.horizontal_bar_chart at 0x1061c9e10>"
      ]
     },
     "execution_count": 20,
     "metadata": {},
     "output_type": "execute_result"
    }
   ],
   "source": [
    "xs = [diff_general_prod[did] for _, did in ordering(Y10_pin_driver_aprod_hour)]\n",
    "horizontal_bar_chart(xs)"
   ]
  },
  {
   "cell_type": "code",
   "execution_count": 21,
   "metadata": {
    "collapsed": false
   },
   "outputs": [
    {
     "data": {
      "image/png": "[encoded data removed]",
      "text/plain": [
       "<matplotlib.figure.Figure at 0x101bfdfd0>"
      ]
     },
     "metadata": {},
     "output_type": "display_data"
    },
    {
     "data": {
      "text/plain": [
       "<supports.charts.horizontal_bar_chart at 0x101bfddd0>"
      ]
     },
     "execution_count": 21,
     "metadata": {},
     "output_type": "execute_result"
    }
   ],
   "source": [
    "xs = [diff_general_prod[did] for _, did in ordering(diff_pin_prod)]\n",
    "horizontal_bar_chart(xs)"
   ]
  },
  {
   "cell_type": "code",
   "execution_count": 26,
   "metadata": {
    "collapsed": false
   },
   "outputs": [
    {
     "data": {
      "image/png": "[encoded data removed]",
      "text/plain": [
       "<matplotlib.figure.Figure at 0x107b1b510>"
      ]
     },
     "metadata": {},
     "output_type": "display_data"
    },
    {
     "data": {
      "text/plain": [
       "<supports.charts.horizontal_bar_chart at 0x107522910>"
      ]
     },
     "execution_count": 26,
     "metadata": {},
     "output_type": "execute_result"
    }
   ],
   "source": [
    "xs = [Y09_driver_genprod_hour[did] for _, did in ordering(Y09_driver_genprod_hour)]\n",
    "horizontal_bar_chart(xs)"
   ]
  },
  {
   "cell_type": "code",
   "execution_count": 22,
   "metadata": {
    "collapsed": false
   },
   "outputs": [
    {
     "data": {
      "image/png": "[encoded data removed]",
      "text/plain": [
       "<matplotlib.figure.Figure at 0x1091be850>"
      ]
     },
     "metadata": {},
     "output_type": "display_data"
    },
    {
     "data": {
      "text/plain": [
       "<supports.charts.horizontal_bar_chart at 0x1091be750>"
      ]
     },
     "execution_count": 22,
     "metadata": {},
     "output_type": "execute_result"
    }
   ],
   "source": [
    "xs = [Y10_driver_genprod_hour[did] for _, did in ordering(Y10_driver_genprod_hour)]\n",
    "horizontal_bar_chart(xs)"
   ]
  },
  {
   "cell_type": "code",
   "execution_count": 23,
   "metadata": {
    "collapsed": false
   },
   "outputs": [
    {
     "data": {
      "image/png": "[encoded data removed]",
      "text/plain": [
       "<matplotlib.figure.Figure at 0x1066bcb50>"
      ]
     },
     "metadata": {},
     "output_type": "display_data"
    },
    {
     "data": {
      "text/plain": [
       "<supports.charts.horizontal_bar_chart at 0x1067e5890>"
      ]
     },
     "execution_count": 23,
     "metadata": {},
     "output_type": "execute_result"
    }
   ],
   "source": [
    "xs = [Y09_pin_driver_aprod_hour[did] for _, did in ordering(Y09_pin_driver_aprod_hour)]\n",
    "horizontal_bar_chart(xs)"
   ]
  },
  {
   "cell_type": "code",
   "execution_count": 24,
   "metadata": {
    "collapsed": false
   },
   "outputs": [
    {
     "data": {
      "image/png": "[encoded data removed]",
      "text/plain": [
       "<matplotlib.figure.Figure at 0x1059bc710>"
      ]
     },
     "metadata": {},
     "output_type": "display_data"
    },
    {
     "data": {
      "text/plain": [
       "<supports.charts.horizontal_bar_chart at 0x1059bc690>"
      ]
     },
     "execution_count": 24,
     "metadata": {},
     "output_type": "execute_result"
    }
   ],
   "source": [
    "xs = [Y10_pin_driver_aprod_hour[did] for _, did in ordering(Y10_pin_driver_aprod_hour)]\n",
    "horizontal_bar_chart(xs)"
   ]
  },
  {
   "cell_type": "code",
   "execution_count": 27,
   "metadata": {
    "collapsed": false
   },
   "outputs": [
    {
     "data": {
      "image/png": "[encoded data removed]",
      "text/plain": [
       "<matplotlib.figure.Figure at 0x108c21f10>"
      ]
     },
     "metadata": {},
     "output_type": "display_data"
    },
    {
     "data": {
      "text/plain": [
       "<supports.charts.horizontal_bar_chart at 0x1059bc210>"
      ]
     },
     "execution_count": 27,
     "metadata": {},
     "output_type": "execute_result"
    }
   ],
   "source": [
    "xs = [Y09_pout_driver_aprod_hour[did] for _, did in ordering(Y09_pout_driver_aprod_hour)]\n",
    "horizontal_bar_chart(xs)"
   ]
  },
  {
   "cell_type": "code",
   "execution_count": 25,
   "metadata": {
    "collapsed": false
   },
   "outputs": [
    {
     "data": {
      "image/png": "[encoded data removed]",
      "text/plain": [
       "<matplotlib.figure.Figure at 0x1059bc190>"
      ]
     },
     "metadata": {},
     "output_type": "display_data"
    },
    {
     "data": {
      "text/plain": [
       "<supports.charts.horizontal_bar_chart at 0x1091ad8d0>"
      ]
     },
     "execution_count": 25,
     "metadata": {},
     "output_type": "execute_result"
    }
   ],
   "source": [
    "xs = [Y10_pout_driver_aprod_hour[did] for _, did in ordering(Y10_pout_driver_aprod_hour)]\n",
    "horizontal_bar_chart(xs)"
   ]
  },
  {
   "cell_type": "code",
   "execution_count": 6,
   "metadata": {
    "collapsed": true
   },
   "outputs": [],
   "source": [
    "def ap_prod_diff_gb(gbs, Y09_ap_prods, Y10_ap_prods):\n",
    "    Y09_pin_d_aprod_hour, Y09_pout_d_aprod_hour = Y09_ap_prods\n",
    "    Y10_pin_d_aprod_hour, Y10_pout_d_aprod_hour = Y10_ap_prods\n",
    "    ap_diffs, ap_diffs_v = [], []\n",
    "    for gb in gbs:\n",
    "        ap_impro, ap_decr = [], []\n",
    "        ap_impro_v, ap_decr_v = [], []\n",
    "        for did in gb:\n",
    "            Y09_ap_prod, Y10_ap_prod = 0, 0\n",
    "            if Y09_pin_d_aprod_hour.has_key(did) and Y09_pout_d_aprod_hour.has_key(did):\n",
    "                Y09_ap_prod = (Y09_pin_d_aprod_hour[did] + Y09_pout_d_aprod_hour[did]) / 2\n",
    "            elif Y09_pin_d_aprod_hour.has_key(did):\n",
    "                Y09_ap_prod = Y09_pin_d_aprod_hour[did]\n",
    "            elif Y09_pout_d_aprod_hour.has_key(did):\n",
    "                Y09_ap_prod = Y09_pout_d_aprod_hour[did]\n",
    "            #\n",
    "            if Y10_pin_d_aprod_hour.has_key(did) and Y10_pout_d_aprod_hour.has_key(did):\n",
    "                Y10_ap_prod = (Y10_pin_d_aprod_hour[did] + Y10_pout_d_aprod_hour[did]) / 2\n",
    "            elif Y10_pin_d_aprod_hour.has_key(did):\n",
    "                Y10_ap_prod = Y10_pin_d_aprod_hour[did]\n",
    "            elif Y10_pout_d_aprod_hour.has_key(did):\n",
    "                Y10_ap_prod = Y10_pout_d_aprod_hour[did]\n",
    "            #\n",
    "            if Y10_ap_prod - Y09_ap_prod >= 0:\n",
    "                ap_impro.append(did)\n",
    "                ap_impro_v.append(Y10_ap_prod - Y09_ap_prod)\n",
    "            else:\n",
    "                ap_decr.append(did)\n",
    "                ap_decr_v.append(Y10_ap_prod - Y09_ap_prod)\n",
    "        ap_diffs.append([ap_impro, ap_decr])\n",
    "        ap_diffs_v.append([ap_impro_v, ap_decr_v])\n",
    "    return ap_diffs, ap_diffs_v"
   ]
  },
  {
   "cell_type": "code",
   "execution_count": 7,
   "metadata": {
    "collapsed": false
   },
   "outputs": [],
   "source": [
    "prod_diff_order = []\n",
    "for did, Y09_general_prod in Y09_d_genprod_hour.iteritems():\n",
    "    Y10_general_prod = Y10_d_genprod_hour[did]\n",
    "    prod_diff_order.append([Y10_general_prod - Y09_general_prod, did])\n",
    "prod_diff_order.sort()\n",
    "prod_diff_order.reverse()"
   ]
  },
  {
   "cell_type": "code",
   "execution_count": 8,
   "metadata": {
    "collapsed": false
   },
   "outputs": [],
   "source": [
    "improv_per, same_per, decr_per = (0.0, 0.05), (0.45, 0.55), (0.95, 1.0)\n",
    "pers = [improv_per, same_per, decr_per]\n",
    "improv_gb, same_gb, decr_gb = [], [], []\n",
    "improv_gb_v, same_gb_v, decr_gb_v = [], [], []\n",
    "gbs = [improv_gb, same_gb, decr_gb]\n",
    "gbs_v = [improv_gb_v, same_gb_v, decr_gb_v]\n",
    "num_drivers = len(prod_diff_order)\n",
    "for i, (low_bound, upper_bound) in enumerate(pers):\n",
    "    for diff, did in prod_diff_order[int(low_bound * num_drivers):int(upper_bound * num_drivers)]:\n",
    "        gbs[i].append(did)\n",
    "        gbs_v[i].append(diff)"
   ]
  },
  {
   "cell_type": "code",
   "execution_count": 9,
   "metadata": {
    "collapsed": false
   },
   "outputs": [],
   "source": [
    "ap_diffs, ap_diffs_v = ap_prod_diff_gb(gbs, (Y09_pin_d_aprod_hour, Y09_pout_d_aprod_hour), (Y10_pin_d_aprod_hour, Y10_pout_d_aprod_hour))"
   ]
  },
  {
   "cell_type": "code",
   "execution_count": 10,
   "metadata": {
    "collapsed": false
   },
   "outputs": [
    {
     "name": "stdout",
     "output_type": "stream",
     "text": [
      "219 (0.00-0.05) avg 8.46\n",
      "163(0.74) avg 9.80, 56(0.26) avg -11.64\n",
      "\n",
      "439 (0.45-0.55) avg 2.18\n",
      "301(0.69) avg 7.64, 138(0.31) avg -10.59\n",
      "\n",
      "220 (0.95-1.00) avg -4.15\n",
      "137(0.62) avg 9.46, 83(0.38) avg -16.45\n",
      "\n"
     ]
    }
   ],
   "source": [
    "for i, (ap_impro, ap_decr) in enumerate(ap_diffs):\n",
    "    total_num = len(ap_impro) + len(ap_decr)\n",
    "    ap_impro_v, ap_decr_v = ap_diffs_v[i]\n",
    "    print '%d (%.2f-%.2f) avg %.2f'% (len(gbs[i]), pers[i][0], pers[i][1], np.mean(gbs_v[i]))\n",
    "    print '%d(%.2f) avg %.2f, %d(%.2f) avg %.2f'%(len(ap_impro), len(ap_impro) / total_num, np.mean(ap_impro_v), \n",
    "                                         len(ap_decr), len(ap_decr) / total_num, np.mean(ap_decr_v))\n",
    "    print"
   ]
  },
  {
   "cell_type": "code",
   "execution_count": 11,
   "metadata": {
    "collapsed": true
   },
   "outputs": [],
   "source": [
    "Y10_ap_prod_did = []\n",
    "for did in both_years_full_drivers:\n",
    "    if Y10_pin_d_aprod_hour.has_key(did) and Y10_pout_d_aprod_hour.has_key(did):\n",
    "        Y10_ap_prod = (Y10_pin_d_aprod_hour[did] + Y10_pout_d_aprod_hour[did]) / 2\n",
    "    elif Y10_pin_d_aprod_hour.has_key(did):\n",
    "        Y10_ap_prod = Y10_pin_d_aprod_hour[did]\n",
    "    elif Y10_pout_d_aprod_hour.has_key(did):\n",
    "        Y10_ap_prod = Y10_pout_d_aprod_hour[did]\n",
    "    Y10_ap_prod_did.append([Y10_ap_prod, did])\n",
    "Y10_ap_prod_did.sort()\n",
    "Y10_ap_prod_did.reverse()"
   ]
  },
  {
   "cell_type": "code",
   "execution_count": 12,
   "metadata": {
    "collapsed": true
   },
   "outputs": [],
   "source": [
    "improv_per, same_per, decr_per = (0.0, 0.05), (0.45, 0.55), (0.95, 1.0)\n",
    "pers = [improv_per, same_per, decr_per]\n",
    "improv_gb, same_gb, decr_gb = [], [], []\n",
    "improv_gb_v, same_gb_v, decr_gb_v = [], [], []\n",
    "gbs = [improv_gb, same_gb, decr_gb]\n",
    "gbs_v = [improv_gb_v, same_gb_v, decr_gb_v]\n",
    "num_drivers = len(Y10_ap_prod_did)\n",
    "for i, (low_bound, upper_bound) in enumerate(pers):\n",
    "    for diff, did in Y10_ap_prod_did[int(low_bound * num_drivers):int(upper_bound * num_drivers)]:\n",
    "        gbs[i].append(did)\n",
    "        gbs_v[i].append(diff)"
   ]
  },
  {
   "cell_type": "code",
   "execution_count": 13,
   "metadata": {
    "collapsed": true
   },
   "outputs": [],
   "source": [
    "ap_diffs, ap_diffs_v = ap_prod_diff_gb(gbs, (Y09_pin_d_aprod_hour, Y09_pout_d_aprod_hour), (Y10_pin_d_aprod_hour, Y10_pout_d_aprod_hour))"
   ]
  },
  {
   "cell_type": "code",
   "execution_count": 14,
   "metadata": {
    "collapsed": false
   },
   "outputs": [
    {
     "name": "stdout",
     "output_type": "stream",
     "text": [
      "219 (0.00-0.05) avg 49.84\n",
      "190(0.87) avg 25.03, 29(0.13) avg -16.57\n",
      "\n",
      "439 (0.45-0.55) avg 25.61\n",
      "307(0.70) avg 4.11, 132(0.30) avg -11.79\n",
      "\n",
      "220 (0.95-1.00) avg 17.36\n",
      "82(0.37) avg 6.17, 138(0.63) avg -11.37\n",
      "\n"
     ]
    }
   ],
   "source": [
    "for i, (ap_impro, ap_decr) in enumerate(ap_diffs):\n",
    "    total_num = len(ap_impro) + len(ap_decr)\n",
    "    ap_impro_v, ap_decr_v = ap_diffs_v[i]\n",
    "    print '%d (%.2f-%.2f) avg %.2f'% (len(gbs[i]), pers[i][0], pers[i][1], np.mean(gbs_v[i]))\n",
    "    print '%d(%.2f) avg %.2f, %d(%.2f) avg %.2f'%(len(ap_impro), len(ap_impro) / total_num, np.mean(ap_impro_v), \n",
    "                                         len(ap_decr), len(ap_decr) / total_num, np.mean(ap_decr_v))\n",
    "    print"
   ]
  },
  {
   "cell_type": "code",
   "execution_count": 15,
   "metadata": {
    "collapsed": false
   },
   "outputs": [],
   "source": [
    "order = []\n",
    "for did in both_years_full_drivers:\n",
    "    order.append([Y10_d_genprod_hour[did], did])\n",
    "order.sort()\n",
    "order.reverse()"
   ]
  },
  {
   "cell_type": "code",
   "execution_count": 16,
   "metadata": {
    "collapsed": true
   },
   "outputs": [],
   "source": [
    "improv_per, same_per, decr_per = (0.0, 0.05), (0.45, 0.55), (0.95, 1.0)\n",
    "pers = [improv_per, same_per, decr_per]\n",
    "improv_gb, same_gb, decr_gb = [], [], []\n",
    "improv_gb_v, same_gb_v, decr_gb_v = [], [], []\n",
    "gbs = [improv_gb, same_gb, decr_gb]\n",
    "gbs_v = [improv_gb_v, same_gb_v, decr_gb_v]\n",
    "num_drivers = len(order)\n",
    "for i, (low_bound, upper_bound) in enumerate(pers):\n",
    "    for diff, did in order[int(low_bound * num_drivers):int(upper_bound * num_drivers)]:\n",
    "        gbs[i].append(did)\n",
    "        gbs_v[i].append(diff)"
   ]
  },
  {
   "cell_type": "code",
   "execution_count": 17,
   "metadata": {
    "collapsed": false
   },
   "outputs": [],
   "source": [
    "ap_diffs, ap_diffs_v = ap_prod_diff_gb(gbs, (Y09_pin_d_aprod_hour, Y09_pout_d_aprod_hour), (Y10_pin_d_aprod_hour, Y10_pout_d_aprod_hour))"
   ]
  },
  {
   "cell_type": "code",
   "execution_count": 18,
   "metadata": {
    "collapsed": false
   },
   "outputs": [
    {
     "name": "stdout",
     "output_type": "stream",
     "text": [
      "219 (0.00-0.05) avg 37.49\n",
      "152(0.69). avg. diff. 10.92, 67(0.31) avg. diff. -14.27\n",
      "\n",
      "439 (0.45-0.55) avg 25.80\n",
      "296(0.67). avg. diff. 7.98, 143(0.33) avg. diff. -9.58\n",
      "\n",
      "220 (0.95-1.00) avg 16.26\n",
      "134(0.61). avg. diff. 11.15, 86(0.39) avg. diff. -16.30\n",
      "\n"
     ]
    }
   ],
   "source": [
    "for i, (ap_impro, ap_decr) in enumerate(ap_diffs):\n",
    "    total_num = len(ap_impro) + len(ap_decr)\n",
    "    ap_impro_v, ap_decr_v = ap_diffs_v[i]\n",
    "    print '%d (%.2f-%.2f) avg %.2f'% (len(gbs[i]), pers[i][0], pers[i][1], np.mean(gbs_v[i]))\n",
    "    print '%d(%.2f). avg. diff. %.2f, %d(%.2f) avg. diff. %.2f'%(len(ap_impro), len(ap_impro) / total_num, np.mean(ap_impro_v), \n",
    "                                         len(ap_decr), len(ap_decr) / total_num, np.mean(ap_decr_v))\n",
    "    print"
   ]
  }
 ],
 "metadata": {
  "kernelspec": {
   "display_name": "Python 2",
   "language": "python",
   "name": "python2"
  },
  "language_info": {
   "codemirror_mode": {
    "name": "ipython",
    "version": 2
   },
   "file_extension": ".py",
   "mimetype": "text/x-python",
   "name": "python",
   "nbconvert_exporter": "python",
   "pygments_lexer": "ipython2",
   "version": "2.7.10"
  }
 },
 "nbformat": 4,
 "nbformat_minor": 0
}
