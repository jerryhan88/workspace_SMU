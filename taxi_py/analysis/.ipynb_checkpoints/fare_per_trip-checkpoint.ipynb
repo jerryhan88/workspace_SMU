{
 "cells": [
  {
   "cell_type": "code",
   "execution_count": 1,
   "metadata": {
    "collapsed": true
   },
   "outputs": [],
   "source": [
    "from __future__ import division\n",
    "# Add the root path for packages I made\n",
    "import os, sys  \n",
    "sys.path.append(os.getcwd() + '/..')\n",
    "#\n",
    "from supports._setting import trips_dir\n",
    "from supports.logger import logging_msg\n",
    "#\n",
    "import datetime, time, csv\n",
    "import pandas as pd\n",
    "#"
   ]
  },
  {
   "cell_type": "code",
   "execution_count": 3,
   "metadata": {
    "collapsed": false
   },
   "outputs": [],
   "source": [
    "trip_df = pd.read_csv('%s/whole-ap-tm-num-dur-fare.csv' % (trips_dir))"
   ]
  },
  {
   "cell_type": "code",
   "execution_count": 8,
   "metadata": {
    "collapsed": false
   },
   "outputs": [
    {
     "name": "stdout",
     "output_type": "stream",
     "text": [
      "                  yy     mm      dd      hh     num-tm     total-dur  \\\n",
      "ap-trip-mode                                                           \n",
      "0             152304  97968  251616  184368    2038509    2644725420   \n",
      "1             152304  97968  251616  184368    5262927    4701819660   \n",
      "2             152304  97968  251616  184368    2747942    3496433640   \n",
      "3             152304  97968  251616  184368  254986796  217611962880   \n",
      "\n",
      "                total-fare  \n",
      "ap-trip-mode                \n",
      "0               4079399298  \n",
      "1               6052236523  \n",
      "2               5879285413  \n",
      "3             264462839760  \n"
     ]
    }
   ],
   "source": [
    "print trip_df.groupby('ap-trip-mode').sum()"
   ]
  },
  {
   "cell_type": "code",
   "execution_count": 14,
   "metadata": {
    "collapsed": false
   },
   "outputs": [],
   "source": [
    "from supports._setting import DInAP_PInAP, DInAP_POutAP, DOutAP_PInAP, DOutAP_POutAP\n",
    "from supports._setting import CENT\n",
    "gb = trip_df.groupby('ap-trip-mode')\n",
    "ap_in_num = gb.sum()['num-tm'][DInAP_PInAP] + gb.sum()['num-tm'][DOutAP_PInAP]\n",
    "ap_in_fare = (gb.sum()['total-fare'][DInAP_PInAP] + gb.sum()['total-fare'][DOutAP_PInAP]) / CENT\n",
    "ap_out_num = gb.sum()['num-tm'][DInAP_POutAP] + gb.sum()['num-tm'][DOutAP_POutAP]\n",
    "ap_out_fare = (gb.sum()['total-fare'][DInAP_POutAP] + gb.sum()['total-fare'][DOutAP_POutAP]) / CENT\n",
    "#\n",
    "ap_in_fare_per_trip = ap_in_fare / ap_in_num\n",
    "ap_out_fare_per_trip = ap_out_fare / ap_out_num\n",
    "\n",
    "data = [ap_in_fare_per_trip, ap_out_fare_per_trip]"
   ]
  },
  {
   "cell_type": "code",
   "execution_count": 20,
   "metadata": {
    "collapsed": false
   },
   "outputs": [],
   "source": [
    "import matplotlib.pyplot as plt\n",
    "import numpy as np\n",
    "fig = plt.figure(figsize=(6, 6))\n",
    "ax = fig.add_subplot(111)\n",
    "ind = np.arange(len(data))\n",
    "width = 0.5  # the width of the bars\n",
    "ax.bar(ind, data, width, color='blue')\n",
    "ax.set_xlim(-width, len(ind))\n",
    "ax.set_ylabel('S$')\n",
    "plt.xticks(ind+width/2, ['Airport', 'Other areas'])\n",
    "plt.savefig('fare_per_trip.pdf')\n",
    "plt.show()"
   ]
  },
  {
   "cell_type": "code",
   "execution_count": null,
   "metadata": {
    "collapsed": true
   },
   "outputs": [],
   "source": []
  }
 ],
 "metadata": {
  "kernelspec": {
   "display_name": "Python 2",
   "language": "python",
   "name": "python2"
  },
  "language_info": {
   "codemirror_mode": {
    "name": "ipython",
    "version": 2
   },
   "file_extension": ".py",
   "mimetype": "text/x-python",
   "name": "python",
   "nbconvert_exporter": "python",
   "pygments_lexer": "ipython2",
   "version": "2.7.10"
  }
 },
 "nbformat": 4,
 "nbformat_minor": 0
}
