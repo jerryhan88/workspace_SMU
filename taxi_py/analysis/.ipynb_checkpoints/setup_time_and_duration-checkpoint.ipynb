{
 "cells": [
  {
   "cell_type": "code",
   "execution_count": 1,
   "metadata": {
    "collapsed": false
   },
   "outputs": [
    {
     "name": "stdout",
     "output_type": "stream",
     "text": [
      "Populating the interactive namespace from numpy and matplotlib\n"
     ]
    }
   ],
   "source": [
    "from __future__ import division\n",
    "#\n",
    "import os, sys\n",
    "sys.path.append(os.getcwd()+'/..')\n",
    "#\n",
    "import pandas as pd\n",
    "#\n",
    "from supports._setting import for_learning_dir\n",
    "from supports._setting import MINUTE\n",
    "from supports.charts import one_histogram, histograms\n",
    "%pylab inline"
   ]
  },
  {
   "cell_type": "code",
   "execution_count": 2,
   "metadata": {
    "collapsed": false
   },
   "outputs": [],
   "source": [
    "whole_trips = pd.read_csv('%s/whole-trip-0901.csv' % (for_learning_dir))"
   ]
  },
  {
   "cell_type": "code",
   "execution_count": 3,
   "metadata": {
    "collapsed": false
   },
   "outputs": [],
   "source": [
    "whole_trips['setup-time'] = (whole_trips['start-time'] - whole_trips['prev-trip-end-time'])\n",
    "setup_times, durs = list(whole_trips[(0 < whole_trips['setup-time']) & (whole_trips['setup-time'] < 60 * MINUTE)]['setup-time'] / MINUTE), list(whole_trips['duration'] / MINUTE)"
   ]
  },
  {
   "cell_type": "code",
   "execution_count": 4,
   "metadata": {
    "collapsed": false
   },
   "outputs": [
    {
     "data": {
      "image/png": "[encoded data removed]",
      "text/plain": [
       "<matplotlib.figure.Figure at 0x106462f90>"
      ]
     },
     "metadata": {},
     "output_type": "display_data"
    },
    {
     "data": {
      "text/plain": [
       "<supports.charts.one_histogram at 0x106462f50>"
      ]
     },
     "execution_count": 4,
     "metadata": {},
     "output_type": "execute_result"
    }
   ],
   "source": [
    "one_histogram('', 'Minitue', 'Probability', 30, setup_times, 'histogram_setup_time')"
   ]
  },
  {
   "cell_type": "code",
   "execution_count": 5,
   "metadata": {
    "collapsed": false
   },
   "outputs": [
    {
     "data": {
      "image/png": "[encoded data removed]",
      "text/plain": [
       "<matplotlib.figure.Figure at 0x17281a150>"
      ]
     },
     "metadata": {},
     "output_type": "display_data"
    },
    {
     "data": {
      "text/plain": [
       "<supports.charts.one_histogram at 0x17280ca90>"
      ]
     },
     "execution_count": 5,
     "metadata": {},
     "output_type": "execute_result"
    }
   ],
   "source": [
    "one_histogram('', 'Minitue', 'Probability', 30, durs, 'histogram_duration')"
   ]
  },
  {
   "cell_type": "code",
   "execution_count": 1,
   "metadata": {
    "collapsed": false
   },
   "outputs": [
    {
     "ename": "NameError",
     "evalue": "name 'setup_times' is not defined",
     "output_type": "error",
     "traceback": [
      "\u001b[0;31m---------------------------------------------------------------------------\u001b[0m",
      "\u001b[0;31mNameError\u001b[0m                                 Traceback (most recent call last)",
      "\u001b[0;32m<ipython-input-1-c514e1d0fe3d>\u001b[0m in \u001b[0;36m<module>\u001b[0;34m()\u001b[0m\n\u001b[1;32m      1\u001b[0m \u001b[0;34m\u001b[0m\u001b[0m\n\u001b[1;32m      2\u001b[0m chart_info = [\n\u001b[0;32m----> 3\u001b[0;31m     [('', 'Setup time (Unit min)', 'Probability', 30, setup_times), \n\u001b[0m\u001b[1;32m      4\u001b[0m      \u001b[0;34m(\u001b[0m\u001b[0;34m''\u001b[0m\u001b[0;34m,\u001b[0m \u001b[0;34m'Duration (Unit min)'\u001b[0m\u001b[0;34m,\u001b[0m \u001b[0;34m'Probability'\u001b[0m\u001b[0;34m,\u001b[0m \u001b[0;36m30\u001b[0m\u001b[0;34m,\u001b[0m \u001b[0mdurs\u001b[0m\u001b[0;34m)\u001b[0m\u001b[0;34m\u001b[0m\u001b[0m\n\u001b[1;32m      5\u001b[0m     ]\n",
      "\u001b[0;31mNameError\u001b[0m: name 'setup_times' is not defined"
     ]
    }
   ],
   "source": [
    "\n",
    "chart_info = [\n",
    "    [('', 'Setup time (Unit min)', 'Probability', 30, setup_times), \n",
    "     ('', 'Duration (Unit min)', 'Probability', 30, durs)\n",
    "    ]\n",
    "]\n",
    "from supports.charts import histograms\n",
    "histograms(chart_info)"
   ]
  },
  {
   "cell_type": "code",
   "execution_count": null,
   "metadata": {
    "collapsed": true
   },
   "outputs": [],
   "source": []
  }
 ],
 "metadata": {
  "kernelspec": {
   "display_name": "Python 2",
   "language": "python",
   "name": "python2"
  },
  "language_info": {
   "codemirror_mode": {
    "name": "ipython",
    "version": 2
   },
   "file_extension": ".py",
   "mimetype": "text/x-python",
   "name": "python",
   "nbconvert_exporter": "python",
   "pygments_lexer": "ipython2",
   "version": "2.7.10"
  }
 },
 "nbformat": 4,
 "nbformat_minor": 0
}
