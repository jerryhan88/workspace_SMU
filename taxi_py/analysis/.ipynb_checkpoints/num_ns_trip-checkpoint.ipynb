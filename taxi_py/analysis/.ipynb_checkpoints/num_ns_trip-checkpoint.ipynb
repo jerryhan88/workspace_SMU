{
 "cells": [
  {
   "cell_type": "code",
   "execution_count": 1,
   "metadata": {
    "collapsed": false
   },
   "outputs": [],
   "source": [
    "from __future__ import division\n",
    "#\n",
    "import os, sys\n",
    "sys.path.append(os.getcwd()+'/..')\n",
    "#\n",
    "import pandas as pd\n",
    "import numpy as np\n",
    "import matplotlib.pyplot as plt\n",
    "#\n",
    "from supports._setting import trips_dir\n",
    "from supports._setting import DInNS_PInNS, DInNS_POutNS\n",
    "from supports.charts import bar_table, one_pie_chart, two_pie_chart\n",
    "# %pylab inline"
   ]
  },
  {
   "cell_type": "code",
   "execution_count": 2,
   "metadata": {
    "collapsed": false
   },
   "outputs": [],
   "source": [
    "whole_trips = pd.read_csv('%s/%s'%(trips_dir, 'whole-ns-tm-num-dur-fare.csv'))"
   ]
  },
  {
   "cell_type": "code",
   "execution_count": 3,
   "metadata": {
    "collapsed": false
   },
   "outputs": [],
   "source": [
    "Y09 = whole_trips[(whole_trips['yy'] == 9)]\n",
    "Y10 = whole_trips[(whole_trips['yy'] == 10)]"
   ]
  },
  {
   "cell_type": "code",
   "execution_count": 5,
   "metadata": {
    "collapsed": false
   },
   "outputs": [],
   "source": [
    "Y09_gb, Y10_gb = Y09.groupby(['ns-trip-mode']), Y10.groupby(['ns-trip-mode'])\n",
    "Y09_tm_num, Y10_tm_num = Y09_gb.sum()['num-tm'], Y10_gb.sum()['num-tm']"
   ]
  },
  {
   "cell_type": "code",
   "execution_count": 6,
   "metadata": {
    "collapsed": false
   },
   "outputs": [
    {
     "data": {
      "text/plain": [
       "<supports.charts.bar_table at 0x1039ecf90>"
      ]
     },
     "execution_count": 6,
     "metadata": {},
     "output_type": "execute_result"
    }
   ],
   "source": [
    "_data = [[ Y09_tm_num[DInNS_PInNS],  Y10_tm_num[DInNS_PInNS]],\n",
    "        [ Y09_tm_num[DInNS_POutNS],  Y10_tm_num[DInNS_POutNS]]]\n",
    "row_labels, col_labels = ['Pick up in NS', 'Pick up out NS'], ['Y2009', 'Y2010']\n",
    "\n",
    "bar_table(\"\", '', row_labels, col_labels, _data, 'Driver_decision_at_ns')"
   ]
  },
  {
   "cell_type": "code",
   "execution_count": 7,
   "metadata": {
    "collapsed": true
   },
   "outputs": [],
   "source": [
    "per_data1 = [_data[1][0] / (_data[0][0] + _data[1][0]), _data[0][0] / (_data[0][0] + _data[1][0])]\n",
    "per_data2 = [_data[1][1] / (_data[0][1] + _data[1][1]), _data[0][1] / (_data[0][1] + _data[1][1])]"
   ]
  },
  {
   "cell_type": "code",
   "execution_count": 10,
   "metadata": {
    "collapsed": false
   },
   "outputs": [
    {
     "data": {
      "text/plain": [
       "<supports.charts.one_pie_chart at 0x110d6ded0>"
      ]
     },
     "execution_count": 10,
     "metadata": {},
     "output_type": "execute_result"
    }
   ],
   "source": [
    "one_pie_chart('Y2009',per_data1, ['Pick up out NS', 'Pick up in NS'], 'Y2009_decision_at_ns')"
   ]
  },
  {
   "cell_type": "code",
   "execution_count": 11,
   "metadata": {
    "collapsed": false
   },
   "outputs": [
    {
     "data": {
      "text/plain": [
       "<supports.charts.one_pie_chart at 0x10d91acd0>"
      ]
     },
     "execution_count": 11,
     "metadata": {},
     "output_type": "execute_result"
    }
   ],
   "source": [
    "one_pie_chart('Y2010',per_data2, ['Pick up out NS', 'Pick up in NS'], 'Y2010_decision_at_ns')"
   ]
  },
  {
   "cell_type": "code",
   "execution_count": 8,
   "metadata": {
    "collapsed": false
   },
   "outputs": [
    {
     "data": {
      "text/plain": [
       "<supports.charts.two_pie_chart at 0x106e0ab10>"
      ]
     },
     "execution_count": 8,
     "metadata": {},
     "output_type": "execute_result"
    }
   ],
   "source": [
    "per_data1 = [_data[1][0] / (_data[0][0] + _data[1][0]), _data[0][0] / (_data[0][0] + _data[1][0])]\n",
    "per_data2 = [_data[1][1] / (_data[0][1] + _data[1][1]), _data[0][1] / (_data[0][1] + _data[1][1])]\n",
    "two_pie_chart(['Pick up out AP', 'Pick up in AP'], \n",
    "              \"Y2009\",per_data1,\n",
    "              \"Y2010\",per_data2, 'percentile')\n"
   ]
  },
  {
   "cell_type": "code",
   "execution_count": null,
   "metadata": {
    "collapsed": true
   },
   "outputs": [],
   "source": []
  }
 ],
 "metadata": {
  "kernelspec": {
   "display_name": "Python 2",
   "language": "python",
   "name": "python2"
  },
  "language_info": {
   "codemirror_mode": {
    "name": "ipython",
    "version": 2
   },
   "file_extension": ".py",
   "mimetype": "text/x-python",
   "name": "python",
   "nbconvert_exporter": "python",
   "pygments_lexer": "ipython2",
   "version": "2.7.10"
  }
 },
 "nbformat": 4,
 "nbformat_minor": 0
}
