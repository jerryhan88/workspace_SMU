{
 "cells": [
  {
   "cell_type": "code",
   "execution_count": 1,
   "metadata": {
    "collapsed": false
   },
   "outputs": [
    {
     "name": "stdout",
     "output_type": "stream",
     "text": [
      "Populating the interactive namespace from numpy and matplotlib\n"
     ]
    }
   ],
   "source": [
    "from __future__ import division\n",
    "#\n",
    "import os, sys\n",
    "sys.path.append(os.getcwd()+'/..')\n",
    "#\n",
    "import pandas as pd\n",
    "#\n",
    "from supports._setting import aiport_trips_dir\n",
    "from supports._setting import MINUTE\n",
    "from supports.charts import histo_cumulative, x_twin_chart\n",
    "%pylab inline"
   ]
  },
  {
   "cell_type": "code",
   "execution_count": 2,
   "metadata": {
    "collapsed": false
   },
   "outputs": [],
   "source": [
    "Y09 = pd.read_csv('%s/%s'%(aiport_trips_dir, 'Y09-airport-trip.csv'))\n",
    "Y10 = pd.read_csv('%s/%s'%(aiport_trips_dir, 'Y10-airport-trip.csv'))"
   ]
  },
  {
   "cell_type": "code",
   "execution_count": 5,
   "metadata": {
    "collapsed": false
   },
   "outputs": [
    {
     "data": {
      "image/png": "[encoded data removed]",
      "text/plain": [
       "<matplotlib.figure.Figure at 0x112f6aed0>"
      ]
     },
     "metadata": {},
     "output_type": "display_data"
    },
    {
     "data": {
      "text/plain": [
       "<supports.charts.histo_cumulative at 0x112f6af10>"
      ]
     },
     "execution_count": 5,
     "metadata": {},
     "output_type": "execute_result"
    }
   ],
   "source": [
    "x1 = [ x / MINUTE for x in Y09['queue-time']]\n",
    "x2 = [ x / MINUTE for x in Y10['queue-time']]\n",
    "histo_cumulative('', 'Minute', '', 30, [x1, x2], ['Y2009', 'Y2010'], save_fn='cum_histo_qt')"
   ]
  },
  {
   "cell_type": "code",
   "execution_count": 6,
   "metadata": {
    "collapsed": false
   },
   "outputs": [],
   "source": [
    "from supports._setting import DInAP_PInAP, DOutAP_PInAP\n",
    "Y09_prev_in = Y09[Y09['trip-mode'] == DInAP_PInAP]\n",
    "Y09_prev_out = Y09[Y09['trip-mode'] == DOutAP_PInAP]\n",
    "Y10_prev_in = Y10[Y10['trip-mode'] == DInAP_PInAP]\n",
    "Y10_prev_out = Y10[Y10['trip-mode'] == DOutAP_PInAP]\n",
    "\n",
    "Y09_in_hourly_gb, Y10_in_hourly_gb = Y09_prev_in.groupby(['hh']), Y10_prev_in.groupby(['hh'])\n",
    "Y09_out_hourly_gb, Y10_out_hourly_gb = Y09_prev_out.groupby(['hh']), Y10_prev_out.groupby(['hh'])\n",
    "\n",
    "\n",
    "\n",
    "Y09_in_hourly_qt = [ x / MINUTE for x in Y09_in_hourly_gb.mean()['queue-time']]\n",
    "Y10_in_hourly_qt = [ x / MINUTE for x in Y10_in_hourly_gb.mean()['queue-time']]\n",
    "in_diff = [Y10_in_hourly_qt[i] - Y09_in_hourly_qt[i] for i in xrange(len(Y09_in_hourly_qt))]\n",
    "\n",
    "\n",
    "Y09_out_hourly_qt = [ x / MINUTE for x in Y09_out_hourly_gb.mean()['queue-time']]\n",
    "Y10_out_hourly_qt = [ x / MINUTE for x in Y10_out_hourly_gb.mean()['queue-time']]\n"
   ]
  },
  {
   "cell_type": "code",
   "execution_count": 4,
   "metadata": {
    "collapsed": false
   },
   "outputs": [
    {
     "ename": "TypeError",
     "evalue": "__init__() takes at least 9 arguments (7 given)",
     "output_type": "error",
     "traceback": [
      "\u001b[0;31m---------------------------------------------------------------------------\u001b[0m",
      "\u001b[0;31mTypeError\u001b[0m                                 Traceback (most recent call last)",
      "\u001b[0;32m<ipython-input-4-8617e979905b>\u001b[0m in \u001b[0;36m<module>\u001b[0;34m()\u001b[0m\n\u001b[0;32m----> 1\u001b[0;31m \u001b[0mmultiple_line_chart\u001b[0m\u001b[0;34m(\u001b[0m\u001b[0;34m''\u001b[0m\u001b[0;34m,\u001b[0m \u001b[0;34m'Time slot'\u001b[0m \u001b[0;34m'Minute'\u001b[0m\u001b[0;34m,\u001b[0m \u001b[0mrange\u001b[0m\u001b[0;34m(\u001b[0m\u001b[0;36m24\u001b[0m\u001b[0;34m)\u001b[0m\u001b[0;34m,\u001b[0m \u001b[0;34m[\u001b[0m\u001b[0mY09_hourly_qt\u001b[0m\u001b[0;34m,\u001b[0m \u001b[0mY10_hourly_qt\u001b[0m\u001b[0;34m]\u001b[0m\u001b[0;34m,\u001b[0m \u001b[0;34m[\u001b[0m\u001b[0;34m'Y2009'\u001b[0m\u001b[0;34m,\u001b[0m \u001b[0;34m'Y2010'\u001b[0m\u001b[0;34m]\u001b[0m\u001b[0;34m,\u001b[0m \u001b[0;34m'upper right'\u001b[0m\u001b[0;34m)\u001b[0m\u001b[0;34m\u001b[0m\u001b[0m\n\u001b[0m",
      "\u001b[0;31mTypeError\u001b[0m: __init__() takes at least 9 arguments (7 given)"
     ]
    }
   ],
   "source": [
    "multiple_line_chart('', 'Time slot' 'Minute', , , ['Y2009', 'Y2010'], 'upper right')\n",
    "from supports._setting import DAY_OF_WEEK\n",
    "\n",
    "\n",
    "\n",
    "num_trip = \n",
    "\n",
    "multiple_line_chart((12, 6), '', 'Time slot', 'Minute', \n",
    "                    (range(24), 0), [Y09_hourly_qt, Y10_hourly_qt], DAY_OF_WEEK, 'upper left', 'wh_num_trips')"
   ]
  },
  {
   "cell_type": "code",
   "execution_count": null,
   "metadata": {
    "collapsed": true
   },
   "outputs": [],
   "source": []
  }
 ],
 "metadata": {
  "kernelspec": {
   "display_name": "Python 2",
   "language": "python",
   "name": "python2"
  },
  "language_info": {
   "codemirror_mode": {
    "name": "ipython",
    "version": 2
   },
   "file_extension": ".py",
   "mimetype": "text/x-python",
   "name": "python",
   "nbconvert_exporter": "python",
   "pygments_lexer": "ipython2",
   "version": "2.7.10"
  }
 },
 "nbformat": 4,
 "nbformat_minor": 0
}
