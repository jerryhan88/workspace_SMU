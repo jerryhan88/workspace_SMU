{
 "cells": [
  {
   "cell_type": "code",
   "execution_count": 1,
   "metadata": {
    "collapsed": true
   },
   "outputs": [],
   "source": [
    "from __future__ import division\n",
    "#\n",
    "import os, sys\n",
    "sys.path.append(os.getcwd()+'/..')\n",
    "#\n",
    "import pandas as pd\n",
    "from scipy import stats\n",
    "import numpy as np\n",
    "#\n",
    "from supports._setting import trips_dir\n",
    "from supports._setting import DAY_OF_WEEK, TIME_SLOTS, CENT\n",
    "from supports._setting import DInAP_PInAP, DInAP_POutAP, DOutAP_PInAP, DOutAP_POutAP\n",
    "from supports.charts import multiple_line_chart\n",
    "%pylab inline"
   ]
  },
  {
   "cell_type": "code",
   "execution_count": 2,
   "metadata": {
    "collapsed": false
   },
   "outputs": [],
   "source": [
    "whole = pd.read_csv('%s/%s'%(trips_dir, 'whole-ap-tm-num-dur-fare_temp.csv'))\n",
    "wh_gb = whole.groupby(['hh', 'day-of-week'])"
   ]
  },
  {
   "cell_type": "code",
   "execution_count": 3,
   "metadata": {
    "collapsed": false
   },
   "outputs": [
    {
     "data": {
      "text/plain": [
       "<supports.charts.multiple_line_chart at 0x1078106d0>"
      ]
     },
     "execution_count": 3,
     "metadata": {},
     "output_type": "execute_result"
    }
   ],
   "source": [
    "# Total Number of whole trips \n",
    "UNIT = 1000\n",
    "hour_dow_totalNumTrip = wh_gb.sum()['num-tm'].to_frame('total-num-trip').reset_index()\n",
    "xs = range(len(TIME_SLOTS))\n",
    "yss = [[0]*len(TIME_SLOTS) for _ in DAY_OF_WEEK]\n",
    "for hour, dow, totalNumTrip in hour_dow_totalNumTrip.values:\n",
    "    yss[DAY_OF_WEEK.index(dow)][hour] += totalNumTrip / UNIT\n",
    "multiple_line_chart((12, 6), '', 'Time slot', 'Unit 1,000', \n",
    "                    (xs, 0), yss, DAY_OF_WEEK, 'upper left', 'wh_num_trips')"
   ]
  },
  {
   "cell_type": "code",
   "execution_count": 5,
   "metadata": {
    "collapsed": false
   },
   "outputs": [
    {
     "data": {
      "text/plain": [
       "<supports.charts.multiple_line_chart at 0x107f03fd0>"
      ]
     },
     "execution_count": 5,
     "metadata": {},
     "output_type": "execute_result"
    }
   ],
   "source": [
    "# Total fare of whole trips\n",
    "UNIT = 1000000\n",
    "hour_dow_totalFare = wh_gb.sum()['total-fare'].to_frame('total-fare').reset_index()\n",
    "xs = range(len(TIME_SLOTS))\n",
    "yss = [[0]*len(TIME_SLOTS) for _ in DAY_OF_WEEK]\n",
    "for hour, dow, totalFare in hour_dow_totalFare.values:\n",
    "    yss[DAY_OF_WEEK.index(dow)][hour] += (totalFare / CENT) / UNIT\n",
    "multiple_line_chart((12, 6), '', 'Time slot', 'Unit S$ 1,000,000', \n",
    "                    (xs, 0), yss, DAY_OF_WEEK, 'upper left', 'wh_fare_trips')"
   ]
  },
  {
   "cell_type": "code",
   "execution_count": null,
   "metadata": {
    "collapsed": true
   },
   "outputs": [],
   "source": []
  }
 ],
 "metadata": {
  "kernelspec": {
   "display_name": "Python 2",
   "language": "python",
   "name": "python2"
  },
  "language_info": {
   "codemirror_mode": {
    "name": "ipython",
    "version": 2
   },
   "file_extension": ".py",
   "mimetype": "text/x-python",
   "name": "python",
   "nbconvert_exporter": "python",
   "pygments_lexer": "ipython2",
   "version": "2.7.10"
  }
 },
 "nbformat": 4,
 "nbformat_minor": 0
}
