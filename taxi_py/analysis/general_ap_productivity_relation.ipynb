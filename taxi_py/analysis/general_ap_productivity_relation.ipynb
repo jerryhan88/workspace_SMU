{
 "cells": [
  {
   "cell_type": "code",
   "execution_count": 1,
   "metadata": {
    "collapsed": false
   },
   "outputs": [
    {
     "name": "stdout",
     "output_type": "stream",
     "text": [
      "Populating the interactive namespace from numpy and matplotlib\n"
     ]
    }
   ],
   "source": [
    "from __future__ import division\n",
    "#\n",
    "import os, sys\n",
    "sys.path.append(os.getcwd()+'/..')\n",
    "#\n",
    "import pandas as pd\n",
    "import numpy as np\n",
    "import matplotlib.pyplot as plt\n",
    "#\n",
    "from supports._setting import individual_detail_dir\n",
    "# from supports.charts import histograms\n",
    "\n",
    "%pylab inline"
   ]
  },
  {
   "cell_type": "code",
   "execution_count": 2,
   "metadata": {
    "collapsed": true
   },
   "outputs": [],
   "source": [
    "Y09_general = pd.read_csv('%s/Y09-individual-general.csv' % (individual_detail_dir))\n",
    "Y10_general = pd.read_csv('%s/Y10-individual-general.csv' % (individual_detail_dir))\n",
    "#\n",
    "Y09_prev_in = pd.read_csv('%s/Y09-individual-prev-in-ap.csv' % (individual_detail_dir))\n",
    "Y10_prev_in = pd.read_csv('%s/Y10-individual-prev-in-ap.csv' % (individual_detail_dir))\n",
    "Y09_prev_out = pd.read_csv('%s/Y09-individual-prev-out-ap.csv' % (individual_detail_dir))\n",
    "Y10_prev_out = pd.read_csv('%s/Y10-individual-prev-out-ap.csv' % (individual_detail_dir))"
   ]
  },
  {
   "cell_type": "code",
   "execution_count": 3,
   "metadata": {
    "collapsed": false
   },
   "outputs": [],
   "source": [
    "# Filtering\n",
    "HOUR, CENT = 60*60, 100\n",
    "PROD_LIMIT = 65 / HOUR * CENT\n",
    "#\n",
    "Y09_general = Y09_general[(Y09_general['total-prod']  < PROD_LIMIT)]\n",
    "Y10_general = Y10_general[(Y10_general['total-prod']  < PROD_LIMIT)]\n",
    "#\n",
    "Y09_prev_in = Y09_prev_in[(Y09_prev_in['ap-prod'] < PROD_LIMIT)]\n",
    "Y10_prev_in = Y10_prev_in[(Y10_prev_in['ap-prod'] < PROD_LIMIT)]\n",
    "#\n",
    "Y09_prev_out = Y09_prev_out[(Y09_prev_out['ap-prod'] < PROD_LIMIT)]\n",
    "Y10_prev_out = Y10_prev_out[(Y10_prev_out['ap-prod'] < PROD_LIMIT)]"
   ]
  },
  {
   "cell_type": "code",
   "execution_count": 4,
   "metadata": {
    "collapsed": true
   },
   "outputs": [],
   "source": [
    "# both years\n",
    "Y09_did, Y10_did = set(Y09_general['did']), set(Y10_general['did'])\n",
    "both_years_full_drivers = list(Y09_did.intersection(Y10_did))\n",
    "#\n",
    "Y09_general = Y09_general[Y09_general['did'].isin(both_years_full_drivers)]\n",
    "Y10_general = Y10_general[Y10_general['did'].isin(both_years_full_drivers)]\n",
    "#\n",
    "Y09_prev_in = Y09_prev_in[Y09_prev_in['did'].isin(both_years_full_drivers)]\n",
    "Y10_prev_in = Y10_prev_in[Y10_prev_in['did'].isin(both_years_full_drivers)]\n",
    "#\n",
    "Y09_prev_out = Y09_prev_out[Y09_prev_out['did'].isin(both_years_full_drivers)]\n",
    "Y10_prev_out = Y10_prev_out[Y10_prev_out['did'].isin(both_years_full_drivers)]"
   ]
  },
  {
   "cell_type": "code",
   "execution_count": 5,
   "metadata": {
    "collapsed": false
   },
   "outputs": [],
   "source": [
    "Y09_general_gb, Y10_general_gb = Y09_general.groupby(['did']), Y10_general.groupby(['did'])\n",
    "Y09_driver_general_prod = Y09_general_gb.mean()['total-prod'].to_frame('avg_total_prod').reset_index()\n",
    "Y10_driver_general_prod = Y10_general_gb.mean()['total-prod'].to_frame('avg_total_prod').reset_index()\n",
    "Y09_d_genprod_hour = {did : total_prod * HOUR / CENT for did, total_prod in Y09_driver_general_prod.values}\n",
    "Y10_d_genprod_hour = {did : total_prod * HOUR / CENT for did, total_prod in Y10_driver_general_prod.values}\n",
    "#\n",
    "Y09_prev_in_gb, Y10_prev_in_gb = Y09_prev_in.groupby(['did']), Y10_prev_in.groupby(['did'])\n",
    "Y09_prev_in_driver_ap_prod = Y09_prev_in_gb.mean()['ap-prod'].to_frame('avg_ap_prod').reset_index()\n",
    "Y10_prev_in_driver_ap_prod = Y10_prev_in_gb.mean()['ap-prod'].to_frame('avg_ap_prod').reset_index()\n",
    "Y09_pin_d_aprod_hour = {did : ap_prod * HOUR / CENT for did, ap_prod in Y09_prev_in_driver_ap_prod.values}\n",
    "Y10_pin_d_aprod_hour = {did : ap_prod * HOUR / CENT for did, ap_prod in Y10_prev_in_driver_ap_prod.values}\n",
    "#\n",
    "Y09_prev_out_gb, Y10_prev_out_gb = Y09_prev_out.groupby(['did']), Y10_prev_out.groupby(['did'])\n",
    "Y09_prev_out_driver_ap_prod = Y09_prev_out_gb.mean()['ap-prod'].to_frame('avg_ap_prod').reset_index()\n",
    "Y10_prev_out_driver_ap_prod = Y10_prev_out_gb.mean()['ap-prod'].to_frame('avg_ap_prod').reset_index()\n",
    "Y09_pout_d_aprod_hour = {did : ap_prod * HOUR / CENT for did, ap_prod in Y09_prev_out_driver_ap_prod.values}\n",
    "Y10_pout_d_aprod_hour = {did : ap_prod * HOUR / CENT for did, ap_prod in Y10_prev_out_driver_ap_prod.values}"
   ]
  },
  {
   "cell_type": "code",
   "execution_count": 6,
   "metadata": {
    "collapsed": true
   },
   "outputs": [],
   "source": [
    "def ap_prod_diff_gb(gbs, Y09_ap_prods, Y10_ap_prods):\n",
    "    Y09_pin_d_aprod_hour, Y09_pout_d_aprod_hour = Y09_ap_prods\n",
    "    Y10_pin_d_aprod_hour, Y10_pout_d_aprod_hour = Y10_ap_prods\n",
    "    ap_diffs, ap_diffs_v = [], []\n",
    "    for gb in gbs:\n",
    "        ap_impro, ap_decr = [], []\n",
    "        ap_impro_v, ap_decr_v = [], []\n",
    "        for did in gb:\n",
    "            Y09_ap_prod, Y10_ap_prod = 0, 0\n",
    "            if Y09_pin_d_aprod_hour.has_key(did) and Y09_pout_d_aprod_hour.has_key(did):\n",
    "                Y09_ap_prod = (Y09_pin_d_aprod_hour[did] + Y09_pout_d_aprod_hour[did]) / 2\n",
    "            elif Y09_pin_d_aprod_hour.has_key(did):\n",
    "                Y09_ap_prod = Y09_pin_d_aprod_hour[did]\n",
    "            elif Y09_pout_d_aprod_hour.has_key(did):\n",
    "                Y09_ap_prod = Y09_pout_d_aprod_hour[did]\n",
    "            #\n",
    "            if Y10_pin_d_aprod_hour.has_key(did) and Y10_pout_d_aprod_hour.has_key(did):\n",
    "                Y10_ap_prod = (Y10_pin_d_aprod_hour[did] + Y10_pout_d_aprod_hour[did]) / 2\n",
    "            elif Y10_pin_d_aprod_hour.has_key(did):\n",
    "                Y10_ap_prod = Y10_pin_d_aprod_hour[did]\n",
    "            elif Y10_pout_d_aprod_hour.has_key(did):\n",
    "                Y10_ap_prod = Y10_pout_d_aprod_hour[did]\n",
    "            #\n",
    "            if Y10_ap_prod - Y09_ap_prod >= 0:\n",
    "                ap_impro.append(did)\n",
    "                ap_impro_v.append(Y10_ap_prod - Y09_ap_prod)\n",
    "            else:\n",
    "                ap_decr.append(did)\n",
    "                ap_decr_v.append(Y10_ap_prod - Y09_ap_prod)\n",
    "        ap_diffs.append([ap_impro, ap_decr])\n",
    "        ap_diffs_v.append([ap_impro_v, ap_decr_v])\n",
    "    return ap_diffs, ap_diffs_v"
   ]
  },
  {
   "cell_type": "code",
   "execution_count": 7,
   "metadata": {
    "collapsed": false
   },
   "outputs": [],
   "source": [
    "prod_diff_order = []\n",
    "for did, Y09_general_prod in Y09_d_genprod_hour.iteritems():\n",
    "    Y10_general_prod = Y10_d_genprod_hour[did]\n",
    "    prod_diff_order.append([Y10_general_prod - Y09_general_prod, did])\n",
    "prod_diff_order.sort()\n",
    "prod_diff_order.reverse()"
   ]
  },
  {
   "cell_type": "code",
   "execution_count": 8,
   "metadata": {
    "collapsed": false
   },
   "outputs": [],
   "source": [
    "improv_per, same_per, decr_per = (0.0, 0.05), (0.45, 0.55), (0.95, 1.0)\n",
    "pers = [improv_per, same_per, decr_per]\n",
    "improv_gb, same_gb, decr_gb = [], [], []\n",
    "improv_gb_v, same_gb_v, decr_gb_v = [], [], []\n",
    "gbs = [improv_gb, same_gb, decr_gb]\n",
    "gbs_v = [improv_gb_v, same_gb_v, decr_gb_v]\n",
    "num_drivers = len(prod_diff_order)\n",
    "for i, (low_bound, upper_bound) in enumerate(pers):\n",
    "    for diff, did in prod_diff_order[int(low_bound * num_drivers):int(upper_bound * num_drivers)]:\n",
    "        gbs[i].append(did)\n",
    "        gbs_v[i].append(diff)"
   ]
  },
  {
   "cell_type": "code",
   "execution_count": 9,
   "metadata": {
    "collapsed": false
   },
   "outputs": [],
   "source": [
    "ap_diffs, ap_diffs_v = ap_prod_diff_gb(gbs, (Y09_pin_d_aprod_hour, Y09_pout_d_aprod_hour), (Y10_pin_d_aprod_hour, Y10_pout_d_aprod_hour))"
   ]
  },
  {
   "cell_type": "code",
   "execution_count": 10,
   "metadata": {
    "collapsed": false
   },
   "outputs": [
    {
     "name": "stdout",
     "output_type": "stream",
     "text": [
      "219 (0.00-0.05) avg 8.46\n",
      "163(0.74) avg 9.80, 56(0.26) avg -11.64\n",
      "\n",
      "439 (0.45-0.55) avg 2.18\n",
      "301(0.69) avg 7.64, 138(0.31) avg -10.59\n",
      "\n",
      "220 (0.95-1.00) avg -4.15\n",
      "137(0.62) avg 9.46, 83(0.38) avg -16.45\n",
      "\n"
     ]
    }
   ],
   "source": [
    "for i, (ap_impro, ap_decr) in enumerate(ap_diffs):\n",
    "    total_num = len(ap_impro) + len(ap_decr)\n",
    "    ap_impro_v, ap_decr_v = ap_diffs_v[i]\n",
    "    print '%d (%.2f-%.2f) avg %.2f'% (len(gbs[i]), pers[i][0], pers[i][1], np.mean(gbs_v[i]))\n",
    "    print '%d(%.2f) avg %.2f, %d(%.2f) avg %.2f'%(len(ap_impro), len(ap_impro) / total_num, np.mean(ap_impro_v), \n",
    "                                         len(ap_decr), len(ap_decr) / total_num, np.mean(ap_decr_v))\n",
    "    print"
   ]
  },
  {
   "cell_type": "code",
   "execution_count": 11,
   "metadata": {
    "collapsed": true
   },
   "outputs": [],
   "source": [
    "Y10_ap_prod_did = []\n",
    "for did in both_years_full_drivers:\n",
    "    if Y10_pin_d_aprod_hour.has_key(did) and Y10_pout_d_aprod_hour.has_key(did):\n",
    "        Y10_ap_prod = (Y10_pin_d_aprod_hour[did] + Y10_pout_d_aprod_hour[did]) / 2\n",
    "    elif Y10_pin_d_aprod_hour.has_key(did):\n",
    "        Y10_ap_prod = Y10_pin_d_aprod_hour[did]\n",
    "    elif Y10_pout_d_aprod_hour.has_key(did):\n",
    "        Y10_ap_prod = Y10_pout_d_aprod_hour[did]\n",
    "    Y10_ap_prod_did.append([Y10_ap_prod, did])\n",
    "Y10_ap_prod_did.sort()\n",
    "Y10_ap_prod_did.reverse()"
   ]
  },
  {
   "cell_type": "code",
   "execution_count": 12,
   "metadata": {
    "collapsed": true
   },
   "outputs": [],
   "source": [
    "improv_per, same_per, decr_per = (0.0, 0.05), (0.45, 0.55), (0.95, 1.0)\n",
    "pers = [improv_per, same_per, decr_per]\n",
    "improv_gb, same_gb, decr_gb = [], [], []\n",
    "improv_gb_v, same_gb_v, decr_gb_v = [], [], []\n",
    "gbs = [improv_gb, same_gb, decr_gb]\n",
    "gbs_v = [improv_gb_v, same_gb_v, decr_gb_v]\n",
    "num_drivers = len(Y10_ap_prod_did)\n",
    "for i, (low_bound, upper_bound) in enumerate(pers):\n",
    "    for diff, did in Y10_ap_prod_did[int(low_bound * num_drivers):int(upper_bound * num_drivers)]:\n",
    "        gbs[i].append(did)\n",
    "        gbs_v[i].append(diff)"
   ]
  },
  {
   "cell_type": "code",
   "execution_count": 13,
   "metadata": {
    "collapsed": true
   },
   "outputs": [],
   "source": [
    "ap_diffs, ap_diffs_v = ap_prod_diff_gb(gbs, (Y09_pin_d_aprod_hour, Y09_pout_d_aprod_hour), (Y10_pin_d_aprod_hour, Y10_pout_d_aprod_hour))"
   ]
  },
  {
   "cell_type": "code",
   "execution_count": 14,
   "metadata": {
    "collapsed": false
   },
   "outputs": [
    {
     "name": "stdout",
     "output_type": "stream",
     "text": [
      "219 (0.00-0.05) avg 49.84\n",
      "190(0.87) avg 25.03, 29(0.13) avg -16.57\n",
      "\n",
      "439 (0.45-0.55) avg 25.61\n",
      "307(0.70) avg 4.11, 132(0.30) avg -11.79\n",
      "\n",
      "220 (0.95-1.00) avg 17.36\n",
      "82(0.37) avg 6.17, 138(0.63) avg -11.37\n",
      "\n"
     ]
    }
   ],
   "source": [
    "for i, (ap_impro, ap_decr) in enumerate(ap_diffs):\n",
    "    total_num = len(ap_impro) + len(ap_decr)\n",
    "    ap_impro_v, ap_decr_v = ap_diffs_v[i]\n",
    "    print '%d (%.2f-%.2f) avg %.2f'% (len(gbs[i]), pers[i][0], pers[i][1], np.mean(gbs_v[i]))\n",
    "    print '%d(%.2f) avg %.2f, %d(%.2f) avg %.2f'%(len(ap_impro), len(ap_impro) / total_num, np.mean(ap_impro_v), \n",
    "                                         len(ap_decr), len(ap_decr) / total_num, np.mean(ap_decr_v))\n",
    "    print"
   ]
  },
  {
   "cell_type": "code",
   "execution_count": 15,
   "metadata": {
    "collapsed": false
   },
   "outputs": [],
   "source": [
    "order = []\n",
    "for did in both_years_full_drivers:\n",
    "    order.append([Y10_d_genprod_hour[did], did])\n",
    "order.sort()\n",
    "order.reverse()"
   ]
  },
  {
   "cell_type": "code",
   "execution_count": 16,
   "metadata": {
    "collapsed": true
   },
   "outputs": [],
   "source": [
    "improv_per, same_per, decr_per = (0.0, 0.05), (0.45, 0.55), (0.95, 1.0)\n",
    "pers = [improv_per, same_per, decr_per]\n",
    "improv_gb, same_gb, decr_gb = [], [], []\n",
    "improv_gb_v, same_gb_v, decr_gb_v = [], [], []\n",
    "gbs = [improv_gb, same_gb, decr_gb]\n",
    "gbs_v = [improv_gb_v, same_gb_v, decr_gb_v]\n",
    "num_drivers = len(order)\n",
    "for i, (low_bound, upper_bound) in enumerate(pers):\n",
    "    for diff, did in order[int(low_bound * num_drivers):int(upper_bound * num_drivers)]:\n",
    "        gbs[i].append(did)\n",
    "        gbs_v[i].append(diff)"
   ]
  },
  {
   "cell_type": "code",
   "execution_count": 17,
   "metadata": {
    "collapsed": false
   },
   "outputs": [],
   "source": [
    "ap_diffs, ap_diffs_v = ap_prod_diff_gb(gbs, (Y09_pin_d_aprod_hour, Y09_pout_d_aprod_hour), (Y10_pin_d_aprod_hour, Y10_pout_d_aprod_hour))"
   ]
  },
  {
   "cell_type": "code",
   "execution_count": 18,
   "metadata": {
    "collapsed": false
   },
   "outputs": [
    {
     "name": "stdout",
     "output_type": "stream",
     "text": [
      "219 (0.00-0.05) avg 37.49\n",
      "152(0.69). avg. diff. 10.92, 67(0.31) avg. diff. -14.27\n",
      "\n",
      "439 (0.45-0.55) avg 25.80\n",
      "296(0.67). avg. diff. 7.98, 143(0.33) avg. diff. -9.58\n",
      "\n",
      "220 (0.95-1.00) avg 16.26\n",
      "134(0.61). avg. diff. 11.15, 86(0.39) avg. diff. -16.30\n",
      "\n"
     ]
    }
   ],
   "source": [
    "for i, (ap_impro, ap_decr) in enumerate(ap_diffs):\n",
    "    total_num = len(ap_impro) + len(ap_decr)\n",
    "    ap_impro_v, ap_decr_v = ap_diffs_v[i]\n",
    "    print '%d (%.2f-%.2f) avg %.2f'% (len(gbs[i]), pers[i][0], pers[i][1], np.mean(gbs_v[i]))\n",
    "    print '%d(%.2f). avg. diff. %.2f, %d(%.2f) avg. diff. %.2f'%(len(ap_impro), len(ap_impro) / total_num, np.mean(ap_impro_v), \n",
    "                                         len(ap_decr), len(ap_decr) / total_num, np.mean(ap_decr_v))\n",
    "    print"
   ]
  },
  {
   "cell_type": "code",
   "execution_count": null,
   "metadata": {
    "collapsed": true
   },
   "outputs": [],
   "source": []
  },
  {
   "cell_type": "code",
   "execution_count": null,
   "metadata": {
    "collapsed": true
   },
   "outputs": [],
   "source": []
  }
 ],
 "metadata": {
  "kernelspec": {
   "display_name": "Python 2",
   "language": "python",
   "name": "python2"
  },
  "language_info": {
   "codemirror_mode": {
    "name": "ipython",
    "version": 2
   },
   "file_extension": ".py",
   "mimetype": "text/x-python",
   "name": "python",
   "nbconvert_exporter": "python",
   "pygments_lexer": "ipython2",
   "version": "2.7.10"
  }
 },
 "nbformat": 4,
 "nbformat_minor": 0
}
