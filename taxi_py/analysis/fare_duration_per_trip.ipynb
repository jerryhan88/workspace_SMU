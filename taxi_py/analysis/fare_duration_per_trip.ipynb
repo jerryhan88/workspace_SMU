{
 "cells": [
  {
   "cell_type": "code",
   "execution_count": 1,
   "metadata": {
    "collapsed": false
   },
   "outputs": [
    {
     "name": "stdout",
     "output_type": "stream",
     "text": [
      "Populating the interactive namespace from numpy and matplotlib\n"
     ]
    }
   ],
   "source": [
    "from __future__ import division\n",
    "# Add the root path for packages I made\n",
    "import os, sys  \n",
    "sys.path.append(os.getcwd() + '/..')\n",
    "#\n",
    "from supports._setting import trips_dir\n",
    "from supports.logger import logging_msg\n",
    "from supports._setting import DInAP_PInAP, DInAP_POutAP, DOutAP_PInAP, DOutAP_POutAP\n",
    "from supports._setting import CENT, MINUTE\n",
    "#\n",
    "import datetime, time, csv\n",
    "import pandas as pd\n",
    "import matplotlib.pyplot as plt\n",
    "import numpy as np\n",
    "%pylab inline\n",
    "#"
   ]
  },
  {
   "cell_type": "code",
   "execution_count": 2,
   "metadata": {
    "collapsed": false
   },
   "outputs": [],
   "source": [
    "trip_df = pd.read_csv('%s/whole-ap-tm-num-dur-fare.csv' % (trips_dir))\n",
    "gb = trip_df.groupby('ap-trip-mode')"
   ]
  },
  {
   "cell_type": "code",
   "execution_count": 3,
   "metadata": {
    "collapsed": false
   },
   "outputs": [],
   "source": [
    "ap_in_num = gb.sum()['num-tm'][DInAP_PInAP] + gb.sum()['num-tm'][DOutAP_PInAP]\n",
    "ap_in_fare = (gb.sum()['total-fare'][DInAP_PInAP] + gb.sum()['total-fare'][DOutAP_PInAP]) / CENT\n",
    "ap_in_dur = (gb.sum()['total-dur'][DInAP_PInAP] + gb.sum()['total-dur'][DOutAP_PInAP]) / MINUTE\n",
    "#\n",
    "ap_in_fare_per_trip = ap_in_fare / ap_in_num\n",
    "ap_in_dur_per_trip = ap_in_dur / ap_in_num\n",
    "#\n",
    "ap_out_num = gb.sum()['num-tm'][DInAP_POutAP] + gb.sum()['num-tm'][DOutAP_POutAP]\n",
    "ap_out_fare = (gb.sum()['total-fare'][DInAP_POutAP] + gb.sum()['total-fare'][DOutAP_POutAP]) / CENT\n",
    "ap_out_dur = (gb.sum()['total-dur'][DInAP_POutAP] + gb.sum()['total-dur'][DOutAP_POutAP]) / MINUTE\n",
    "#\n",
    "ap_out_fare_per_trip = ap_out_fare / ap_out_num\n",
    "ap_out_dur_per_trip = ap_out_dur / ap_out_num"
   ]
  },
  {
   "cell_type": "code",
   "execution_count": 4,
   "metadata": {
    "collapsed": false
   },
   "outputs": [
    {
     "name": "stdout",
     "output_type": "stream",
     "text": [
      "20.8059890533 10.3944424288\n",
      "21.3838292714 14.2372090402\n"
     ]
    }
   ],
   "source": [
    "print ap_in_fare_per_trip, ap_out_fare_per_trip\n",
    "print ap_in_dur_per_trip, ap_out_dur_per_trip"
   ]
  },
  {
   "cell_type": "code",
   "execution_count": 5,
   "metadata": {
    "collapsed": false
   },
   "outputs": [
    {
     "data": {
      "image/png": "[encoded data removed]",
      "text/plain": [
       "<matplotlib.figure.Figure at 0x103c530d0>"
      ]
     },
     "metadata": {},
     "output_type": "display_data"
    }
   ],
   "source": [
    "data = [ap_in_fare_per_trip, ap_out_fare_per_trip]\n",
    "fig = plt.figure(figsize=(6, 6))\n",
    "ax = fig.add_subplot(111)\n",
    "ind = np.arange(len(data))\n",
    "width = 0.5  # the width of the bars\n",
    "ax.bar(ind, data, width, color='blue')\n",
    "ax.set_xlim(-width, len(ind))\n",
    "ax.set_ylabel('S$')\n",
    "plt.xticks(ind+width/2, ['Airport', 'Other areas'])\n",
    "plt.savefig('fare_per_trip.pdf')\n",
    "plt.show()"
   ]
  },
  {
   "cell_type": "code",
   "execution_count": 6,
   "metadata": {
    "collapsed": false
   },
   "outputs": [
    {
     "data": {
      "image/png": "[encoded data removed]",
      "text/plain": [
       "<matplotlib.figure.Figure at 0x106c51990>"
      ]
     },
     "metadata": {},
     "output_type": "display_data"
    }
   ],
   "source": [
    "data = [ap_in_dur_per_trip, ap_out_dur_per_trip]\n",
    "fig = plt.figure(figsize=(6, 6))\n",
    "ax = fig.add_subplot(111)\n",
    "ind = np.arange(len(data))\n",
    "width = 0.5  # the width of the bars\n",
    "ax.bar(ind, data, width, color='blue')\n",
    "ax.set_xlim(-width, len(ind))\n",
    "ax.set_ylabel('Minute')\n",
    "plt.xticks(ind+width/2, ['Airport', 'Other areas'])\n",
    "plt.savefig('dur_per_trip.pdf')\n",
    "plt.show()"
   ]
  },
  {
   "cell_type": "code",
   "execution_count": null,
   "metadata": {
    "collapsed": true
   },
   "outputs": [],
   "source": []
  }
 ],
 "metadata": {
  "kernelspec": {
   "display_name": "Python 2",
   "language": "python",
   "name": "python2"
  },
  "language_info": {
   "codemirror_mode": {
    "name": "ipython",
    "version": 2
   },
   "file_extension": ".py",
   "mimetype": "text/x-python",
   "name": "python",
   "nbconvert_exporter": "python",
   "pygments_lexer": "ipython2",
   "version": "2.7.10"
  }
 },
 "nbformat": 4,
 "nbformat_minor": 0
}
