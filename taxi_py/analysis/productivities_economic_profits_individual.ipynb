{
 "cells": [
  {
   "cell_type": "code",
   "execution_count": 1,
   "metadata": {
    "collapsed": false
   },
   "outputs": [
    {
     "name": "stdout",
     "output_type": "stream",
     "text": [
      "Populating the interactive namespace from numpy and matplotlib\n"
     ]
    }
   ],
   "source": [
    "from __future__ import division\n",
    "#\n",
    "import os, sys\n",
    "sys.path.append(os.getcwd()+'/..')\n",
    "#\n",
    "from supports._setting import individual_detail_dir\n",
    "from supports.charts import x_twin_chart\n",
    "from supports.handling_pkl import load_picle_file\n",
    "#\n",
    "import numpy as np\n",
    "import matplotlib.pyplot as plt\n",
    "import scipy.stats as stats\n",
    "from prettytable import PrettyTable\n",
    "from supports.charts import horizontal_bar_chart\n",
    "#\n",
    "%pylab inline"
   ]
  },
  {
   "cell_type": "code",
   "execution_count": 15,
   "metadata": {
    "collapsed": false
   },
   "outputs": [],
   "source": [
    "def difference(data0, data1):\n",
    "    diff = {}\n",
    "    for k, v in data0.iteritems():\n",
    "        diff[k] = data1[k] - v\n",
    "    return diff\n",
    "\n",
    "def ordering(dids_values):\n",
    "    order_v_did = []\n",
    "    for did, v in dids_values.iteritems():\n",
    "        order_v_did.append([v, did])\n",
    "    order_v_did.sort()\n",
    "    order_v_did.reverse()\n",
    "    return order_v_did\n",
    "\n",
    "def find_extreme_range(order_v_did):\n",
    "    # more than mean's 50 percent\n",
    "    values = [v for v, _ in order_v_did]\n",
    "    mu, std = np.mean(values), np.std(values)\n",
    "    i = 0\n",
    "    while order_v_did[i][0] > mu + std * 2.0:\n",
    "        i+=1\n",
    "    return (0, i / len(order_v_did))\n",
    "\n",
    "def find_negative_range(order_v_did):\n",
    "    i = 0\n",
    "    while order_v_did[i][0] >= 0:\n",
    "        i+=1\n",
    "    return (i / len(order_v_did), 1.0)\n",
    "\n",
    "def display_main_group(data_ranges, main_group_data):\n",
    "    hg_value, mg_value, lg_value = main_group_data\n",
    "    high_group_range, middle_group_range, low_group_range = data_ranges\n",
    "    _table = PrettyTable([\"Main group\", \"M Per\", \"M AVG\"])\n",
    "    _table.align[\"M Per\"] = \"r\"\n",
    "    _table.align[\"M AVG\"] = \"r\"\n",
    "    for i, g_name in enumerate(['Extreme', 'Middle', 'Negative']):\n",
    "                _table.add_row([g_name, \n",
    "                                '%.2f' %((data_ranges[i][1] - data_ranges[i][0])*100),\n",
    "                                '%.2f' % (sum(main_group_data[i])/len(main_group_data[i]))])\n",
    "    print _table\n",
    "    \n",
    "def display_sub_group(sub_group_data):\n",
    "    _table = PrettyTable([\"Main\",\"Sub\", \"S Per\", \"S AVG\"])\n",
    "    _table.align[\"S Per\"] = \"r\"\n",
    "    _table.align[\"S AVG\"] = \"r\"\n",
    "    m_g_names = ['Extreme', 'Middle', 'Negative']\n",
    "    for i, (pg_value, ng_value) in enumerate(sub_group_data):\n",
    "        main_g_name = m_g_names[i]\n",
    "        _table.add_row([main_g_name, 'Positive', \n",
    "                        '%.2f' % (len(pg_value)/(len(pg_value) + len(ng_value))* 100),\n",
    "                        '%.2f' % (sum(pg_value)/len(pg_value))])\n",
    "        _table.add_row([main_g_name, 'Negative', \n",
    "                        '%.2f' % (len(ng_value)/(len(pg_value) + len(ng_value))* 100),\n",
    "                        '%.2f' % (sum(ng_value)/len(ng_value))])\n",
    "        _table.add_row([main_g_name, 'Summary', \n",
    "                        '',\n",
    "                        '%.2f' % (sum(pg_value + ng_value)/len(pg_value + ng_value))])\n",
    "    print _table\n",
    "\n",
    "    \n",
    "def grouping(data_ranges, values_keys):\n",
    "    high_group_range, middle_group_range, low_group_range = data_ranges\n",
    "    total_num = len(values_keys)\n",
    "    high_group = values_keys[int(high_group_range[0] * total_num):int(high_group_range[1] * total_num)]\n",
    "    middle_group = values_keys[int(middle_group_range[0] * total_num):int(middle_group_range[1] * total_num)]\n",
    "    low_group = values_keys[int(low_group_range[0] * total_num):int(low_group_range[1] * total_num)]\n",
    "    #\n",
    "    hg_value, hg_did = zip(*high_group)\n",
    "    mg_value, mg_did = zip(*middle_group)\n",
    "    lg_value, lg_did = zip(*low_group)\n",
    "    return hg_value, hg_did, mg_value, mg_did, lg_value, lg_did\n",
    "\n",
    "def sub_grouping(main_group_keys, _sub):\n",
    "    sub_group_data = []\n",
    "    for keys in main_group_keys:\n",
    "        pg_value, ng_value = [], []\n",
    "        for k in keys:\n",
    "            v = _sub[k]\n",
    "            if v >= 0:\n",
    "                pg_value.append(v)\n",
    "            else:\n",
    "                ng_value.append(v)\n",
    "        sub_group_data.append([pg_value, ng_value])\n",
    "    return sub_group_data"
   ]
  },
  {
   "cell_type": "code",
   "execution_count": 3,
   "metadata": {
    "collapsed": false
   },
   "outputs": [],
   "source": [
    "both_years_full_drivers,\\\n",
    "Y09_driver_genprod_hour, Y10_driver_genprod_hour, \\\n",
    "Y09_pin_driver_aprod_hour, Y10_pin_driver_aprod_hour, \\\n",
    "Y09_pout_driver_aprod_hour, Y10_pout_driver_aprod_hour, \\\n",
    "Y09_pin_driver_epro_month, Y10_pin_driver_epro_month, \\\n",
    "Y09_pout_driver_epro_month, Y10_pout_driver_epro_month = load_picle_file('%s/productivities_ext.pkl' % (individual_detail_dir))"
   ]
  },
  {
   "cell_type": "code",
   "execution_count": 4,
   "metadata": {
    "collapsed": true
   },
   "outputs": [],
   "source": [
    "diff_general_prod = difference(Y09_driver_genprod_hour, Y10_driver_genprod_hour)\n",
    "diff_pin_prod = difference(Y09_pin_driver_aprod_hour, Y10_pin_driver_aprod_hour)\n",
    "diff_pout_prod = difference(Y09_pout_driver_aprod_hour, Y10_pout_driver_aprod_hour)\n",
    "diff_pin_eco = difference(Y09_pin_driver_epro_month, Y10_pin_driver_epro_month)\n",
    "diff_pout_eco = difference(Y09_pout_driver_epro_month, Y10_pout_driver_epro_month)\n",
    "diffs ={'diff_g_prod' : diff_general_prod,\n",
    "        'diff_apin_prod' : diff_pin_prod,\n",
    "        'diff_apout_prod' : diff_pout_prod,\n",
    "        'diff_apin_eco' : diff_pin_eco, \n",
    "        'diff_apout_eco' :  diff_pout_eco}"
   ]
  },
  {
   "cell_type": "code",
   "execution_count": 16,
   "metadata": {
    "collapsed": false
   },
   "outputs": [],
   "source": [
    "def f1(main_st):\n",
    "    main_diff = diffs[main_st]\n",
    "    order_v_did = ordering(main_diff)\n",
    "    main_values = [v for v, _ in order_v_did]\n",
    "    print main_st, 'AVG: ', np.mean(main_values), 'STD: ', np.std(main_values)\n",
    "    high_group_range, middle_group_range, low_group_range = find_extreme_range(order_v_did), (0.45, 0.55), find_negative_range(order_v_did)\n",
    "    data_ranges = [high_group_range, middle_group_range, low_group_range]\n",
    "    hg_value, hg_did, mg_value, mg_did, lg_value, lg_did = grouping(data_ranges, order_v_did)\n",
    "    main_group_data = [hg_value, mg_value, lg_value]\n",
    "    main_group_keys = [hg_did, mg_did, lg_did]\n",
    "    display_main_group(data_ranges, main_group_data)\n",
    "    horizontal_bar_chart('','',main_values)\n",
    "    #\n",
    "    for sub_st, sub_diff in diffs.iteritems():\n",
    "        if sub_st == main_st: continue\n",
    "        print sub_st\n",
    "        sub_group_data = sub_grouping(main_group_keys, sub_diff)\n",
    "        display_sub_group(sub_group_data)"
   ]
  },
  {
   "cell_type": "code",
   "execution_count": 17,
   "metadata": {
    "collapsed": false
   },
   "outputs": [
    {
     "name": "stdout",
     "output_type": "stream",
     "text": [
      "diff_g_prod AVG:  2.35671208074 STD:  2.84758526151\n",
      "+------------+-------+-------+\n",
      "| Main group | M Per | M AVG |\n",
      "+------------+-------+-------+\n",
      "|  Extreme   |  1.29 | 15.85 |\n",
      "|   Middle   | 10.00 |  2.22 |\n",
      "|  Negative  |  8.52 | -1.92 |\n",
      "+------------+-------+-------+\n",
      "diff_apout_prod\n",
      "+----------+----------+-------+-------+\n",
      "|   Main   |   Sub    | S Per | S AVG |\n",
      "+----------+----------+-------+-------+\n",
      "| Extreme  | Positive | 72.41 |  6.49 |\n",
      "| Extreme  | Negative | 27.59 | -4.59 |\n",
      "| Extreme  | Summary  |       |  3.43 |\n",
      "|  Middle  | Positive | 73.78 |  4.26 |\n",
      "|  Middle  | Negative | 26.22 | -3.97 |\n",
      "|  Middle  | Summary  |       |  2.10 |\n",
      "| Negative | Positive | 67.71 |  4.07 |\n",
      "| Negative | Negative | 32.29 | -4.38 |\n",
      "| Negative | Summary  |       |  1.34 |\n",
      "+----------+----------+-------+-------+\n",
      "diff_apin_prod\n",
      "+----------+----------+-------+-------+\n",
      "|   Main   |   Sub    | S Per | S AVG |\n",
      "+----------+----------+-------+-------+\n",
      "| Extreme  | Positive | 89.66 |  3.09 |\n",
      "| Extreme  | Negative | 10.34 | -3.85 |\n",
      "| Extreme  | Summary  |       |  2.38 |\n",
      "|  Middle  | Positive | 77.33 |  3.06 |\n",
      "|  Middle  | Negative | 22.67 | -2.68 |\n",
      "|  Middle  | Summary  |       |  1.76 |\n",
      "| Negative | Positive | 68.75 |  3.08 |\n",
      "| Negative | Negative | 31.25 | -4.10 |\n",
      "| Negative | Summary  |       |  0.83 |\n",
      "+----------+----------+-------+-------+\n",
      "diff_apin_eco\n",
      "+----------+----------+-------+--------+\n",
      "|   Main   |   Sub    | S Per |  S AVG |\n",
      "+----------+----------+-------+--------+\n",
      "| Extreme  | Positive | 72.41 |  20.07 |\n",
      "| Extreme  | Negative | 27.59 | -14.74 |\n",
      "| Extreme  | Summary  |       |  10.47 |\n",
      "|  Middle  | Positive | 78.67 |  21.84 |\n",
      "|  Middle  | Negative | 21.33 |  -9.95 |\n",
      "|  Middle  | Summary  |       |  15.06 |\n",
      "| Negative | Positive | 58.85 |  24.93 |\n",
      "| Negative | Negative | 41.15 | -24.09 |\n",
      "| Negative | Summary  |       |   4.76 |\n",
      "+----------+----------+-------+--------+\n",
      "diff_apout_eco\n",
      "+----------+----------+-------+--------+\n",
      "|   Main   |   Sub    | S Per |  S AVG |\n",
      "+----------+----------+-------+--------+\n",
      "| Extreme  | Positive | 68.97 |  42.03 |\n",
      "| Extreme  | Negative | 31.03 | -23.41 |\n",
      "| Extreme  | Summary  |       |  21.72 |\n",
      "|  Middle  | Positive | 53.33 |  25.65 |\n",
      "|  Middle  | Negative | 46.67 | -29.28 |\n",
      "|  Middle  | Summary  |       |   0.02 |\n",
      "| Negative | Positive | 52.60 |  58.79 |\n",
      "| Negative | Negative | 47.40 | -62.23 |\n",
      "| Negative | Summary  |       |   1.43 |\n",
      "+----------+----------+-------+--------+\n"
     ]
    },
    {
     "data": {
      "image/png": "[encoded data removed]",
      "text/plain": [
       "<matplotlib.figure.Figure at 0x10aa4b4d0>"
      ]
     },
     "metadata": {},
     "output_type": "display_data"
    }
   ],
   "source": [
    "# General productivity difference\n",
    "f1('diff_g_prod')\n"
   ]
  },
  {
   "cell_type": "code",
   "execution_count": 18,
   "metadata": {
    "collapsed": false
   },
   "outputs": [
    {
     "name": "stdout",
     "output_type": "stream",
     "text": [
      "diff_apin_prod AVG:  1.6232765514 STD:  4.42278241421\n",
      "+------------+-------+-------+\n",
      "| Main group | M Per | M AVG |\n",
      "+------------+-------+-------+\n",
      "|  Extreme   |  2.22 | 15.26 |\n",
      "|   Middle   | 10.00 |  1.86 |\n",
      "|  Negative  | 22.94 | -3.55 |\n",
      "+------------+-------+-------+\n",
      "diff_apout_prod\n",
      "+----------+----------+-------+-------+\n",
      "|   Main   |   Sub    | S Per | S AVG |\n",
      "+----------+----------+-------+-------+\n",
      "| Extreme  | Positive | 68.00 | 12.16 |\n",
      "| Extreme  | Negative | 32.00 | -6.36 |\n",
      "| Extreme  | Summary  |       |  6.23 |\n",
      "|  Middle  | Positive | 80.89 |  3.92 |\n",
      "|  Middle  | Negative | 19.11 | -3.70 |\n",
      "|  Middle  | Summary  |       |  2.46 |\n",
      "| Negative | Positive | 60.54 |  5.08 |\n",
      "| Negative | Negative | 39.46 | -6.05 |\n",
      "| Negative | Summary  |       |  0.68 |\n",
      "+----------+----------+-------+-------+\n",
      "diff_g_prod\n",
      "+----------+----------+-------+-------+\n",
      "|   Main   |   Sub    | S Per | S AVG |\n",
      "+----------+----------+-------+-------+\n",
      "| Extreme  | Positive | 94.00 |  2.82 |\n",
      "| Extreme  | Negative |  6.00 | -2.25 |\n",
      "| Extreme  | Summary  |       |  2.52 |\n",
      "|  Middle  | Positive | 92.89 |  2.83 |\n",
      "|  Middle  | Negative |  7.11 | -1.29 |\n",
      "|  Middle  | Summary  |       |  2.54 |\n",
      "| Negative | Positive | 88.39 |  2.29 |\n",
      "| Negative | Negative | 11.61 | -1.91 |\n",
      "| Negative | Summary  |       |  1.81 |\n",
      "+----------+----------+-------+-------+\n",
      "diff_apin_eco\n",
      "+----------+----------+-------+--------+\n",
      "|   Main   |   Sub    | S Per |  S AVG |\n",
      "+----------+----------+-------+--------+\n",
      "| Extreme  | Positive | 82.00 |  25.66 |\n",
      "| Extreme  | Negative | 18.00 |  -5.02 |\n",
      "| Extreme  | Summary  |       |  20.14 |\n",
      "|  Middle  | Positive | 84.44 |  20.29 |\n",
      "|  Middle  | Negative | 15.56 | -10.11 |\n",
      "|  Middle  | Summary  |       |  15.57 |\n",
      "| Negative | Positive | 54.35 |  18.72 |\n",
      "| Negative | Negative | 45.65 | -20.14 |\n",
      "| Negative | Summary  |       |   0.98 |\n",
      "+----------+----------+-------+--------+\n",
      "diff_apout_eco\n",
      "+----------+----------+-------+--------+\n",
      "|   Main   |   Sub    | S Per |  S AVG |\n",
      "+----------+----------+-------+--------+\n",
      "| Extreme  | Positive | 52.00 |  15.31 |\n",
      "| Extreme  | Negative | 48.00 | -24.02 |\n",
      "| Extreme  | Summary  |       |  -3.57 |\n",
      "|  Middle  | Positive | 59.56 |  44.14 |\n",
      "|  Middle  | Negative | 40.44 | -30.14 |\n",
      "|  Middle  | Summary  |       |  14.10 |\n",
      "| Negative | Positive | 56.67 |  39.75 |\n",
      "| Negative | Negative | 43.33 | -34.57 |\n",
      "| Negative | Summary  |       |   7.55 |\n",
      "+----------+----------+-------+--------+\n"
     ]
    },
    {
     "data": {
      "image/png": "[encoded data removed]",
      "text/plain": [
       "<matplotlib.figure.Figure at 0x10986ad90>"
      ]
     },
     "metadata": {},
     "output_type": "display_data"
    }
   ],
   "source": [
    "# Airport in productivity difference\n",
    "f1('diff_apin_prod')"
   ]
  },
  {
   "cell_type": "code",
   "execution_count": 22,
   "metadata": {
    "collapsed": false
   },
   "outputs": [
    {
     "name": "stdout",
     "output_type": "stream",
     "text": [
      "diff_apout_prod AVG:  1.99940717284 STD:  6.61228147191\n",
      "+------------+-------+-------+\n",
      "| Main group | M Per | M AVG |\n",
      "+------------+-------+-------+\n",
      "|  Extreme   |  2.75 | 21.88 |\n",
      "|   Middle   | 10.00 |  2.22 |\n",
      "|  Negative  | 25.82 | -5.21 |\n",
      "+------------+-------+-------+\n",
      "diff_g_prod\n",
      "+----------+----------+-------+-------+\n",
      "|   Main   |   Sub    | S Per | S AVG |\n",
      "+----------+----------+-------+-------+\n",
      "| Extreme  | Positive | 96.77 |  4.04 |\n",
      "| Extreme  | Negative |  3.23 | -3.14 |\n",
      "| Extreme  | Summary  |       |  3.81 |\n",
      "|  Middle  | Positive | 92.44 |  2.57 |\n",
      "|  Middle  | Negative |  7.56 | -1.03 |\n",
      "|  Middle  | Summary  |       |  2.30 |\n",
      "| Negative | Positive | 89.35 |  2.53 |\n",
      "| Negative | Negative | 10.65 | -1.93 |\n",
      "| Negative | Summary  |       |  2.05 |\n",
      "+----------+----------+-------+-------+\n",
      "diff_apin_prod\n",
      "+----------+----------+-------+-------+\n",
      "|   Main   |   Sub    | S Per | S AVG |\n",
      "+----------+----------+-------+-------+\n",
      "| Extreme  | Positive | 74.19 |  6.76 |\n",
      "| Extreme  | Negative | 25.81 | -5.49 |\n",
      "| Extreme  | Summary  |       |  3.60 |\n",
      "|  Middle  | Positive | 83.11 |  2.37 |\n",
      "|  Middle  | Negative | 16.89 | -2.15 |\n",
      "|  Middle  | Summary  |       |  1.61 |\n",
      "| Negative | Positive | 64.95 |  3.56 |\n",
      "| Negative | Negative | 35.05 | -4.35 |\n",
      "| Negative | Summary  |       |  0.79 |\n",
      "+----------+----------+-------+-------+\n",
      "diff_apin_eco\n",
      "+----------+----------+-------+--------+\n",
      "|   Main   |   Sub    | S Per |  S AVG |\n",
      "+----------+----------+-------+--------+\n",
      "| Extreme  | Positive | 67.74 |  17.03 |\n",
      "| Extreme  | Negative | 32.26 |  -8.52 |\n",
      "| Extreme  | Summary  |       |   8.79 |\n",
      "|  Middle  | Positive | 76.44 |  25.42 |\n",
      "|  Middle  | Negative | 23.56 | -11.51 |\n",
      "|  Middle  | Summary  |       |  16.72 |\n",
      "| Negative | Positive | 73.88 |  22.21 |\n",
      "| Negative | Negative | 26.12 | -14.93 |\n",
      "| Negative | Summary  |       |  12.51 |\n",
      "+----------+----------+-------+--------+\n",
      "diff_apout_eco\n",
      "+----------+----------+-------+--------+\n",
      "|   Main   |   Sub    | S Per |  S AVG |\n",
      "+----------+----------+-------+--------+\n",
      "| Extreme  | Positive | 88.71 |  18.18 |\n",
      "| Extreme  | Negative | 11.29 | -48.24 |\n",
      "| Extreme  | Summary  |       |  10.68 |\n",
      "|  Middle  | Positive | 63.11 |  45.74 |\n",
      "|  Middle  | Negative | 36.89 | -41.16 |\n",
      "|  Middle  | Summary  |       |  13.68 |\n",
      "| Negative | Positive | 32.30 |  32.42 |\n",
      "| Negative | Negative | 67.70 | -22.99 |\n",
      "| Negative | Summary  |       |  -5.09 |\n",
      "+----------+----------+-------+--------+\n"
     ]
    },
    {
     "data": {
      "image/png": "[encoded data removed]",
      "text/plain": [
       "<matplotlib.figure.Figure at 0x109214c10>"
      ]
     },
     "metadata": {},
     "output_type": "display_data"
    }
   ],
   "source": [
    "# Airport out productivity difference\n",
    "f1('diff_apout_prod')"
   ]
  },
  {
   "cell_type": "code",
   "execution_count": 19,
   "metadata": {
    "collapsed": false
   },
   "outputs": [
    {
     "name": "stdout",
     "output_type": "stream",
     "text": [
      "diff_apin_eco AVG:  14.7231472204 STD:  25.998372007\n",
      "+------------+-------+--------+\n",
      "| Main group | M Per |  M AVG |\n",
      "+------------+-------+--------+\n",
      "|  Extreme   |  2.35 |  93.81 |\n",
      "|   Middle   | 10.00 |  13.28 |\n",
      "|  Negative  | 24.31 | -14.61 |\n",
      "+------------+-------+--------+\n",
      "diff_apout_prod\n",
      "+----------+----------+-------+-------+\n",
      "|   Main   |   Sub    | S Per | S AVG |\n",
      "+----------+----------+-------+-------+\n",
      "| Extreme  | Positive | 75.47 |  4.49 |\n",
      "| Extreme  | Negative | 24.53 | -3.50 |\n",
      "| Extreme  | Summary  |       |  2.53 |\n",
      "|  Middle  | Positive | 72.89 |  4.60 |\n",
      "|  Middle  | Negative | 27.11 | -5.67 |\n",
      "|  Middle  | Summary  |       |  1.82 |\n",
      "| Negative | Positive | 72.26 |  4.63 |\n",
      "| Negative | Negative | 27.74 | -4.83 |\n",
      "| Negative | Summary  |       |  2.01 |\n",
      "+----------+----------+-------+-------+\n",
      "diff_g_prod\n",
      "+----------+----------+-------+-------+\n",
      "|   Main   |   Sub    | S Per | S AVG |\n",
      "+----------+----------+-------+-------+\n",
      "| Extreme  | Positive | 88.68 |  3.56 |\n",
      "| Extreme  | Negative | 11.32 | -2.17 |\n",
      "| Extreme  | Summary  |       |  2.92 |\n",
      "|  Middle  | Positive | 91.56 |  2.67 |\n",
      "|  Middle  | Negative |  8.44 | -1.43 |\n",
      "|  Middle  | Summary  |       |  2.33 |\n",
      "| Negative | Positive | 85.58 |  2.68 |\n",
      "| Negative | Negative | 14.42 | -1.93 |\n",
      "| Negative | Summary  |       |  2.01 |\n",
      "+----------+----------+-------+-------+\n",
      "diff_apin_prod\n",
      "+----------+----------+-------+-------+\n",
      "|   Main   |   Sub    | S Per | S AVG |\n",
      "+----------+----------+-------+-------+\n",
      "| Extreme  | Positive | 94.34 |  4.82 |\n",
      "| Extreme  | Negative |  5.66 | -5.44 |\n",
      "| Extreme  | Summary  |       |  4.24 |\n",
      "|  Middle  | Positive | 82.67 |  3.10 |\n",
      "|  Middle  | Negative | 17.33 | -3.45 |\n",
      "|  Middle  | Summary  |       |  1.97 |\n",
      "| Negative | Positive | 56.93 |  2.28 |\n",
      "| Negative | Negative | 43.07 | -3.53 |\n",
      "| Negative | Summary  |       | -0.23 |\n",
      "+----------+----------+-------+-------+\n",
      "diff_apout_eco\n",
      "+----------+----------+-------+--------+\n",
      "|   Main   |   Sub    | S Per |  S AVG |\n",
      "+----------+----------+-------+--------+\n",
      "| Extreme  | Positive | 60.38 | 113.80 |\n",
      "| Extreme  | Negative | 39.62 | -43.13 |\n",
      "| Extreme  | Summary  |       |  51.62 |\n",
      "|  Middle  | Positive | 58.67 |  34.66 |\n",
      "|  Middle  | Negative | 41.33 | -32.48 |\n",
      "|  Middle  | Summary  |       |   6.91 |\n",
      "| Negative | Positive | 50.00 |  49.03 |\n",
      "| Negative | Negative | 50.00 | -48.41 |\n",
      "| Negative | Summary  |       |   0.31 |\n",
      "+----------+----------+-------+--------+\n"
     ]
    },
    {
     "data": {
      "image/png": "[encoded data removed]",
      "text/plain": [
       "<matplotlib.figure.Figure at 0x107b45050>"
      ]
     },
     "metadata": {},
     "output_type": "display_data"
    }
   ],
   "source": [
    "# Airport in eco difference\n",
    "f1('diff_apin_eco')"
   ]
  },
  {
   "cell_type": "code",
   "execution_count": 20,
   "metadata": {
    "collapsed": false
   },
   "outputs": [
    {
     "name": "stdout",
     "output_type": "stream",
     "text": [
      "diff_apout_eco AVG:  12.2987337466 STD:  74.4662490402\n",
      "+------------+-------+--------+\n",
      "| Main group | M Per |  M AVG |\n",
      "+------------+-------+--------+\n",
      "|  Extreme   |  3.55 | 263.66 |\n",
      "|   Middle   | 10.00 |   3.82 |\n",
      "|  Negative  | 41.79 | -31.75 |\n",
      "+------------+-------+--------+\n",
      "diff_apout_prod\n",
      "+----------+----------+-------+-------+\n",
      "|   Main   |   Sub    | S Per | S AVG |\n",
      "+----------+----------+-------+-------+\n",
      "| Extreme  | Positive | 87.50 |  3.95 |\n",
      "| Extreme  | Negative | 12.50 | -2.80 |\n",
      "| Extreme  | Summary  |       |  3.10 |\n",
      "|  Middle  | Positive | 76.89 |  4.54 |\n",
      "|  Middle  | Negative | 23.11 | -4.54 |\n",
      "|  Middle  | Summary  |       |  2.44 |\n",
      "| Negative | Positive | 58.17 |  3.31 |\n",
      "| Negative | Negative | 41.83 | -5.90 |\n",
      "| Negative | Summary  |       | -0.54 |\n",
      "+----------+----------+-------+-------+\n",
      "diff_g_prod\n",
      "+----------+----------+-------+-------+\n",
      "|   Main   |   Sub    | S Per | S AVG |\n",
      "+----------+----------+-------+-------+\n",
      "| Extreme  | Positive | 82.50 |  3.02 |\n",
      "| Extreme  | Negative | 17.50 | -2.11 |\n",
      "| Extreme  | Summary  |       |  2.12 |\n",
      "|  Middle  | Positive | 95.11 |  2.57 |\n",
      "|  Middle  | Negative |  4.89 | -2.64 |\n",
      "|  Middle  | Summary  |       |  2.32 |\n",
      "| Negative | Positive | 90.34 |  2.68 |\n",
      "| Negative | Negative |  9.66 | -2.07 |\n",
      "| Negative | Summary  |       |  2.22 |\n",
      "+----------+----------+-------+-------+\n",
      "diff_apin_prod\n",
      "+----------+----------+-------+-------+\n",
      "|   Main   |   Sub    | S Per | S AVG |\n",
      "+----------+----------+-------+-------+\n",
      "| Extreme  | Positive | 85.00 |  2.72 |\n",
      "| Extreme  | Negative | 15.00 | -3.42 |\n",
      "| Extreme  | Summary  |       |  1.80 |\n",
      "|  Middle  | Positive | 76.44 |  3.45 |\n",
      "|  Middle  | Negative | 23.56 | -4.68 |\n",
      "|  Middle  | Summary  |       |  1.54 |\n",
      "| Negative | Positive | 76.22 |  3.33 |\n",
      "| Negative | Negative | 23.78 | -3.29 |\n",
      "| Negative | Summary  |       |  1.76 |\n",
      "+----------+----------+-------+-------+\n",
      "diff_apin_eco\n",
      "+----------+----------+-------+--------+\n",
      "|   Main   |   Sub    | S Per |  S AVG |\n",
      "+----------+----------+-------+--------+\n",
      "| Extreme  | Positive | 76.25 |  34.84 |\n",
      "| Extreme  | Negative | 23.75 | -11.93 |\n",
      "| Extreme  | Summary  |       |  23.73 |\n",
      "|  Middle  | Positive | 78.22 |  22.28 |\n",
      "|  Middle  | Negative | 21.78 | -10.39 |\n",
      "|  Middle  | Summary  |       |  15.17 |\n",
      "| Negative | Positive | 70.91 |  21.80 |\n",
      "| Negative | Negative | 29.09 | -16.39 |\n",
      "| Negative | Summary  |       |  10.69 |\n",
      "+----------+----------+-------+--------+\n"
     ]
    },
    {
     "data": {
      "image/png": "[encoded data removed]",
      "text/plain": [
       "<matplotlib.figure.Figure at 0x108672f50>"
      ]
     },
     "metadata": {},
     "output_type": "display_data"
    }
   ],
   "source": [
    "# Airport out eco difference\n",
    "f1('diff_apout_eco')"
   ]
  },
  {
   "cell_type": "code",
   "execution_count": null,
   "metadata": {
    "collapsed": true
   },
   "outputs": [],
   "source": []
  }
 ],
 "metadata": {
  "kernelspec": {
   "display_name": "Python 2",
   "language": "python",
   "name": "python2"
  },
  "language_info": {
   "codemirror_mode": {
    "name": "ipython",
    "version": 2
   },
   "file_extension": ".py",
   "mimetype": "text/x-python",
   "name": "python",
   "nbconvert_exporter": "python",
   "pygments_lexer": "ipython2",
   "version": "2.7.10"
  }
 },
 "nbformat": 4,
 "nbformat_minor": 0
}
