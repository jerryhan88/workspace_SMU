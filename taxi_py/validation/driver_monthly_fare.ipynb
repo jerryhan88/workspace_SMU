{
 "cells": [
  {
   "cell_type": "code",
   "execution_count": 1,
   "metadata": {
    "collapsed": true
   },
   "outputs": [],
   "source": [
    "from __future__ import division\n",
    "#\n",
    "import os, sys\n",
    "sys.path.append(os.getcwd()+'/..')\n",
    "#\n",
    "import pandas as pd\n",
    "#\n",
    "from supports._setting import trips_dir, aiport_trips_dir\n",
    "from supports.charts import histograms"
   ]
  },
  {
   "cell_type": "code",
   "execution_count": 2,
   "metadata": {
    "collapsed": true
   },
   "outputs": [],
   "source": [
    "trip_prefix, ap_trip_prefix = 'whole-trip-', 'airport-trip-'"
   ]
  },
  {
   "cell_type": "code",
   "execution_count": 3,
   "metadata": {
    "collapsed": true
   },
   "outputs": [],
   "source": [
    "Y09_driver_total_monthly_fare, Y10_driver_total_monthly_fare= [], []\n",
    "Y09_driver_ap_monthly_fare, Y10_driver_ap_monthly_fare = [], []"
   ]
  },
  {
   "cell_type": "code",
   "execution_count": 4,
   "metadata": {
    "collapsed": false
   },
   "outputs": [],
   "source": [
    "for m in xrange(1, 13):\n",
    "    yymm = '09%02d' % (m) \n",
    "    if yymm in ['0912', '1010']:\n",
    "        continue\n",
    "    trip_df = pd.read_csv('%s/%s%s.csv' % (trips_dir, trip_prefix, yymm))\n",
    "    trip_df = trip_df[(trip_df['did'] != -1)]\n",
    "    ap_trip_df = pd.read_csv('%s/%s%s.csv' % (aiport_trips_dir, ap_trip_prefix, yymm))\n",
    "    ap_trip_df = ap_trip_df[(ap_trip_df['did'] != -1)]\n",
    "\n",
    "    Y09_driver_total_monthly_fare += list(trip_df.groupby(['did']).sum()['fare'])\n",
    "    Y09_driver_ap_monthly_fare += list(ap_trip_df.groupby(['did']).sum()['fare'])"
   ]
  },
  {
   "cell_type": "code",
   "execution_count": 6,
   "metadata": {
    "collapsed": false
   },
   "outputs": [],
   "source": [
    "Y10_driver_ap_monthly_fare = []\n",
    "for m in xrange(1, 13):\n",
    "    yymm = '10%02d' % (m) \n",
    "    if yymm in ['0912', '1010']:\n",
    "        continue\n",
    "    trip_df = pd.read_csv('%s/%s%s.csv' % (trips_dir, trip_prefix, yymm))\n",
    "    trip_df = trip_df[(trip_df['did'] != -1)]\n",
    "    ap_trip_df = pd.read_csv('%s/%s%s.csv' % (aiport_trips_dir, ap_trip_prefix, yymm))\n",
    "    ap_trip_df = ap_trip_df[(ap_trip_df['did'] != -1)]\n",
    "\n",
    "    Y10_driver_total_monthly_fare += list(trip_df.groupby(['did']).sum()['fare'])\n",
    "    Y10_driver_ap_monthly_fare += list(ap_trip_df.groupby(['did']).sum()['fare'])"
   ]
  },
  {
   "cell_type": "code",
   "execution_count": 11,
   "metadata": {
    "collapsed": false
   },
   "outputs": [
    {
     "data": {
      "text/plain": [
       "<supports.charts.histograms at 0x16d9f4650>"
      ]
     },
     "execution_count": 11,
     "metadata": {},
     "output_type": "execute_result"
    }
   ],
   "source": [
    "chart_info = [\n",
    "    [('Y2009', 'Fare (S$)', 'Probability', 50, [x / 100 for x in Y09_driver_total_monthly_fare]), \n",
    "     ('Y2010', 'Fare (S$)', 'Probability', 50, [x / 100 for x in Y10_driver_total_monthly_fare])\n",
    "    ]\n",
    "]\n",
    "histograms(chart_info)"
   ]
  },
  {
   "cell_type": "code",
   "execution_count": 10,
   "metadata": {
    "collapsed": false
   },
   "outputs": [
    {
     "data": {
      "text/plain": [
       "<supports.charts.histograms at 0x17400e090>"
      ]
     },
     "execution_count": 10,
     "metadata": {},
     "output_type": "execute_result"
    }
   ],
   "source": [
    "chart_info = [\n",
    "    [('Y2009', 'Fare (S$)', 'Probability', 25, [x / 100 for x in Y09_driver_ap_monthly_fare]), \n",
    "     ('Y2010', 'Fare (S$)', 'Probability', 25, [x / 100 for x in Y10_driver_ap_monthly_fare])\n",
    "    ]\n",
    "]\n",
    "histograms(chart_info)"
   ]
  },
  {
   "cell_type": "code",
   "execution_count": null,
   "metadata": {
    "collapsed": true
   },
   "outputs": [],
   "source": []
  }
 ],
 "metadata": {
  "kernelspec": {
   "display_name": "Python 2",
   "language": "python",
   "name": "python2"
  },
  "language_info": {
   "codemirror_mode": {
    "name": "ipython",
    "version": 2
   },
   "file_extension": ".py",
   "mimetype": "text/x-python",
   "name": "python",
   "nbconvert_exporter": "python",
   "pygments_lexer": "ipython2",
   "version": "2.7.10"
  }
 },
 "nbformat": 4,
 "nbformat_minor": 0
}
